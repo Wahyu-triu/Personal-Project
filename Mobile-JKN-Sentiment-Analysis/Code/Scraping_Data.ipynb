{
  "nbformat": 4,
  "nbformat_minor": 0,
  "metadata": {
    "colab": {
      "name": "Scraping Data.ipynb",
      "provenance": [],
      "collapsed_sections": [],
      "mount_file_id": "1PNsnfN7S9gCBt7-9aQHdoklrGXhUoj4i",
      "authorship_tag": "ABX9TyPZ/5mJPmDiRQUGgAN6B+5k",
      "include_colab_link": true
    },
    "kernelspec": {
      "display_name": "Python 3",
      "name": "python3"
    },
    "language_info": {
      "name": "python"
    }
  },
  "cells": [
    {
      "cell_type": "markdown",
      "metadata": {
        "id": "view-in-github",
        "colab_type": "text"
      },
      "source": [
        "<a href=\"https://colab.research.google.com/github/Wahyu-triu/Mobile-JKN-Sentiment-Analysis/blob/main/Scraping_Data.ipynb\" target=\"_parent\"><img src=\"https://colab.research.google.com/assets/colab-badge.svg\" alt=\"Open In Colab\"/></a>"
      ]
    },
    {
      "cell_type": "markdown",
      "metadata": {
        "id": "IV1YWZF3ekb2"
      },
      "source": [
        "### Import Library"
      ]
    },
    {
      "cell_type": "code",
      "metadata": {
        "colab": {
          "base_uri": "https://localhost:8080/"
        },
        "id": "p0KFRMHPaBBF",
        "outputId": "ccf3457c-b577-48f4-9ae8-fe9bf3984d6b"
      },
      "source": [
        "# install google-play-scarper\n",
        "!pip install google-play-scraper"
      ],
      "execution_count": null,
      "outputs": [
        {
          "name": "stdout",
          "output_type": "stream",
          "text": [
            "Collecting google-play-scraper\n",
            "  Downloading google-play-scraper-1.0.1.tar.gz (52 kB)\n",
            "\u001b[?25l\r\u001b[K     |██████▎                         | 10 kB 24.9 MB/s eta 0:00:01\r\u001b[K     |████████████▌                   | 20 kB 29.7 MB/s eta 0:00:01\r\u001b[K     |██████████████████▉             | 30 kB 22.4 MB/s eta 0:00:01\r\u001b[K     |█████████████████████████       | 40 kB 16.2 MB/s eta 0:00:01\r\u001b[K     |███████████████████████████████▎| 51 kB 8.4 MB/s eta 0:00:01\r\u001b[K     |████████████████████████████████| 52 kB 586 kB/s \n",
            "\u001b[?25hBuilding wheels for collected packages: google-play-scraper\n",
            "  Building wheel for google-play-scraper (setup.py) ... \u001b[?25l\u001b[?25hdone\n",
            "  Created wheel for google-play-scraper: filename=google_play_scraper-1.0.1-py3-none-any.whl size=24191 sha256=2f211880bb574888776969dcf267d86484e00c461f7c13e75ab227fc0b58df60\n",
            "  Stored in directory: /root/.cache/pip/wheels/05/8f/af/b45bcc354aac4f16e943658c14517ca439f5b18b766361a260\n",
            "Successfully built google-play-scraper\n",
            "Installing collected packages: google-play-scraper\n",
            "Successfully installed google-play-scraper-1.0.1\n"
          ]
        }
      ]
    },
    {
      "cell_type": "markdown",
      "metadata": {
        "id": "321qM1K6fQPz"
      },
      "source": [
        "Import Packages"
      ]
    },
    {
      "cell_type": "code",
      "metadata": {
        "id": "hl8pdggefNYS"
      },
      "source": [
        "# import packages\n",
        "#from google_play_scraper import app\n",
        "import pandas as pd\n",
        "import numpy as np"
      ],
      "execution_count": 2,
      "outputs": []
    },
    {
      "cell_type": "code",
      "metadata": {
        "id": "xtRKHNtXf-RF"
      },
      "source": [
        "# scrap review from indonesia market\n",
        "\n",
        "from google_play_scraper import Sort, reviews_all\n",
        "\n",
        "in_reviews = reviews_all(\n",
        "    'app.bpjs.mobile', \n",
        "    sleep_milliseconds=0, # defaults to 0\n",
        "    lang='in', # defaults to 'en'\n",
        "    country='in', # defaults to 'us'\n",
        "    sort=Sort.NEWEST, # defaults to Sort.MOST_RELEVANT\n",
        ")"
      ],
      "execution_count": null,
      "outputs": []
    },
    {
      "cell_type": "markdown",
      "metadata": {
        "id": "i8ONQgNWZ5Ly"
      },
      "source": [
        "### Put review into pandas DataFrame"
      ]
    },
    {
      "cell_type": "code",
      "metadata": {
        "id": "5nLrM7fBZ31q"
      },
      "source": [
        "in_reviews"
      ],
      "execution_count": null,
      "outputs": []
    },
    {
      "cell_type": "code",
      "metadata": {
        "id": "P079I7f9a8qo"
      },
      "source": [
        "# made it into 1 column\n",
        "df = pd.DataFrame(np.array(in_reviews), columns=['review'])"
      ],
      "execution_count": null,
      "outputs": []
    },
    {
      "cell_type": "code",
      "metadata": {
        "id": "gqXymCr4bJv2"
      },
      "source": [
        "# split values based on columns name\n",
        "df = df.join(pd.DataFrame(df.pop('review').tolist()))"
      ],
      "execution_count": null,
      "outputs": []
    },
    {
      "cell_type": "code",
      "metadata": {
        "colab": {
          "base_uri": "https://localhost:8080/",
          "height": 425
        },
        "id": "IxfDcr66bhDR",
        "outputId": "89a151cf-7fa0-46a9-cac7-08d3fe3ce441"
      },
      "source": [
        "df.head()"
      ],
      "execution_count": null,
      "outputs": [
        {
          "data": {
            "text/html": [
              "<div>\n",
              "<style scoped>\n",
              "    .dataframe tbody tr th:only-of-type {\n",
              "        vertical-align: middle;\n",
              "    }\n",
              "\n",
              "    .dataframe tbody tr th {\n",
              "        vertical-align: top;\n",
              "    }\n",
              "\n",
              "    .dataframe thead th {\n",
              "        text-align: right;\n",
              "    }\n",
              "</style>\n",
              "<table border=\"1\" class=\"dataframe\">\n",
              "  <thead>\n",
              "    <tr style=\"text-align: right;\">\n",
              "      <th></th>\n",
              "      <th>reviewId</th>\n",
              "      <th>userName</th>\n",
              "      <th>userImage</th>\n",
              "      <th>content</th>\n",
              "      <th>score</th>\n",
              "      <th>thumbsUpCount</th>\n",
              "      <th>reviewCreatedVersion</th>\n",
              "      <th>at</th>\n",
              "      <th>replyContent</th>\n",
              "      <th>repliedAt</th>\n",
              "    </tr>\n",
              "  </thead>\n",
              "  <tbody>\n",
              "    <tr>\n",
              "      <th>0</th>\n",
              "      <td>gp:AOqpTOHEIujNLZHf58zzjsy5FcR77AzXT1qJnC6Ex1G...</td>\n",
              "      <td>NONOK NONOK</td>\n",
              "      <td>https://play-lh.googleusercontent.com/a-/AOh14...</td>\n",
              "      <td>sangat bermanfaat</td>\n",
              "      <td>5</td>\n",
              "      <td>0</td>\n",
              "      <td>3.6.1</td>\n",
              "      <td>2021-08-26 02:50:07</td>\n",
              "      <td>None</td>\n",
              "      <td>NaT</td>\n",
              "    </tr>\n",
              "    <tr>\n",
              "      <th>1</th>\n",
              "      <td>gp:AOqpTOGWyX88zWtpGqHoVI4_vIkDPzmy_5UuAADR3_q...</td>\n",
              "      <td>Ari Pambudi</td>\n",
              "      <td>https://play-lh.googleusercontent.com/a-/AOh14...</td>\n",
              "      <td>dikit dikit update</td>\n",
              "      <td>3</td>\n",
              "      <td>0</td>\n",
              "      <td>3.5.0</td>\n",
              "      <td>2021-08-26 02:46:35</td>\n",
              "      <td>None</td>\n",
              "      <td>NaT</td>\n",
              "    </tr>\n",
              "    <tr>\n",
              "      <th>2</th>\n",
              "      <td>gp:AOqpTOExiYJux9v1bMQNCvpHWhEwuuo7IK0d140HYni...</td>\n",
              "      <td>Musim Rebah</td>\n",
              "      <td>https://play-lh.googleusercontent.com/a-/AOh14...</td>\n",
              "      <td>Saya sudah mendownload apk JKN mobile. Lalu me...</td>\n",
              "      <td>1</td>\n",
              "      <td>0</td>\n",
              "      <td>3.6.1</td>\n",
              "      <td>2021-08-26 02:43:46</td>\n",
              "      <td>None</td>\n",
              "      <td>NaT</td>\n",
              "    </tr>\n",
              "    <tr>\n",
              "      <th>3</th>\n",
              "      <td>gp:AOqpTOEuVlyw5wIhLXkxsEO3_BQDqzOggT_cgvdmBXh...</td>\n",
              "      <td>Par Yanti</td>\n",
              "      <td>https://play-lh.googleusercontent.com/a/AATXAJ...</td>\n",
              "      <td>Blm di pake</td>\n",
              "      <td>1</td>\n",
              "      <td>0</td>\n",
              "      <td>3.5.0</td>\n",
              "      <td>2021-08-26 02:38:19</td>\n",
              "      <td>None</td>\n",
              "      <td>NaT</td>\n",
              "    </tr>\n",
              "    <tr>\n",
              "      <th>4</th>\n",
              "      <td>gp:AOqpTOF5T6OUaAKmz_Nl1WL6UZNDsqomi45me6vbKxQ...</td>\n",
              "      <td>siti Rani</td>\n",
              "      <td>https://play-lh.googleusercontent.com/a-/AOh14...</td>\n",
              "      <td>Ok</td>\n",
              "      <td>5</td>\n",
              "      <td>0</td>\n",
              "      <td>None</td>\n",
              "      <td>2021-08-26 02:34:11</td>\n",
              "      <td>None</td>\n",
              "      <td>NaT</td>\n",
              "    </tr>\n",
              "  </tbody>\n",
              "</table>\n",
              "</div>"
            ],
            "text/plain": [
              "                                            reviewId  ... repliedAt\n",
              "0  gp:AOqpTOHEIujNLZHf58zzjsy5FcR77AzXT1qJnC6Ex1G...  ...       NaT\n",
              "1  gp:AOqpTOGWyX88zWtpGqHoVI4_vIkDPzmy_5UuAADR3_q...  ...       NaT\n",
              "2  gp:AOqpTOExiYJux9v1bMQNCvpHWhEwuuo7IK0d140HYni...  ...       NaT\n",
              "3  gp:AOqpTOEuVlyw5wIhLXkxsEO3_BQDqzOggT_cgvdmBXh...  ...       NaT\n",
              "4  gp:AOqpTOF5T6OUaAKmz_Nl1WL6UZNDsqomi45me6vbKxQ...  ...       NaT\n",
              "\n",
              "[5 rows x 10 columns]"
            ]
          },
          "execution_count": 22,
          "metadata": {},
          "output_type": "execute_result"
        }
      ]
    },
    {
      "cell_type": "code",
      "metadata": {
        "colab": {
          "base_uri": "https://localhost:8080/",
          "height": 203
        },
        "id": "yvyXTDO9bnSA",
        "outputId": "4921c985-d139-4b03-a9e9-550fc2da3e5d"
      },
      "source": [
        "df_try = pd.DataFrame(np.array(in_reviews), columns=['review'])\n",
        "df_try.head()"
      ],
      "execution_count": null,
      "outputs": [
        {
          "data": {
            "text/html": [
              "<div>\n",
              "<style scoped>\n",
              "    .dataframe tbody tr th:only-of-type {\n",
              "        vertical-align: middle;\n",
              "    }\n",
              "\n",
              "    .dataframe tbody tr th {\n",
              "        vertical-align: top;\n",
              "    }\n",
              "\n",
              "    .dataframe thead th {\n",
              "        text-align: right;\n",
              "    }\n",
              "</style>\n",
              "<table border=\"1\" class=\"dataframe\">\n",
              "  <thead>\n",
              "    <tr style=\"text-align: right;\">\n",
              "      <th></th>\n",
              "      <th>review</th>\n",
              "    </tr>\n",
              "  </thead>\n",
              "  <tbody>\n",
              "    <tr>\n",
              "      <th>0</th>\n",
              "      <td>{'reviewId': 'gp:AOqpTOHEIujNLZHf58zzjsy5FcR77...</td>\n",
              "    </tr>\n",
              "    <tr>\n",
              "      <th>1</th>\n",
              "      <td>{'reviewId': 'gp:AOqpTOGWyX88zWtpGqHoVI4_vIkDP...</td>\n",
              "    </tr>\n",
              "    <tr>\n",
              "      <th>2</th>\n",
              "      <td>{'reviewId': 'gp:AOqpTOExiYJux9v1bMQNCvpHWhEwu...</td>\n",
              "    </tr>\n",
              "    <tr>\n",
              "      <th>3</th>\n",
              "      <td>{'reviewId': 'gp:AOqpTOEuVlyw5wIhLXkxsEO3_BQDq...</td>\n",
              "    </tr>\n",
              "    <tr>\n",
              "      <th>4</th>\n",
              "      <td>{'reviewId': 'gp:AOqpTOF5T6OUaAKmz_Nl1WL6UZNDs...</td>\n",
              "    </tr>\n",
              "  </tbody>\n",
              "</table>\n",
              "</div>"
            ],
            "text/plain": [
              "                                              review\n",
              "0  {'reviewId': 'gp:AOqpTOHEIujNLZHf58zzjsy5FcR77...\n",
              "1  {'reviewId': 'gp:AOqpTOGWyX88zWtpGqHoVI4_vIkDP...\n",
              "2  {'reviewId': 'gp:AOqpTOExiYJux9v1bMQNCvpHWhEwu...\n",
              "3  {'reviewId': 'gp:AOqpTOEuVlyw5wIhLXkxsEO3_BQDq...\n",
              "4  {'reviewId': 'gp:AOqpTOF5T6OUaAKmz_Nl1WL6UZNDs..."
            ]
          },
          "execution_count": 13,
          "metadata": {},
          "output_type": "execute_result"
        }
      ]
    },
    {
      "cell_type": "code",
      "metadata": {
        "id": "7SmCOS1GbyWL"
      },
      "source": [
        "df_try.pop('review').tolist()"
      ],
      "execution_count": null,
      "outputs": []
    },
    {
      "cell_type": "markdown",
      "metadata": {
        "id": "jML3hJpAcou9"
      },
      "source": [
        "## Pre-processing"
      ]
    },
    {
      "cell_type": "code",
      "metadata": {
        "colab": {
          "base_uri": "https://localhost:8080/",
          "height": 198
        },
        "id": "vYpE3ZTic7C7",
        "outputId": "d3f8b81e-9cba-4cb5-8bef-3e37da990210"
      },
      "source": [
        "# feature selections\n",
        "\n",
        "df.head(2)"
      ],
      "execution_count": null,
      "outputs": [
        {
          "data": {
            "text/html": [
              "<div>\n",
              "<style scoped>\n",
              "    .dataframe tbody tr th:only-of-type {\n",
              "        vertical-align: middle;\n",
              "    }\n",
              "\n",
              "    .dataframe tbody tr th {\n",
              "        vertical-align: top;\n",
              "    }\n",
              "\n",
              "    .dataframe thead th {\n",
              "        text-align: right;\n",
              "    }\n",
              "</style>\n",
              "<table border=\"1\" class=\"dataframe\">\n",
              "  <thead>\n",
              "    <tr style=\"text-align: right;\">\n",
              "      <th></th>\n",
              "      <th>reviewId</th>\n",
              "      <th>userName</th>\n",
              "      <th>userImage</th>\n",
              "      <th>content</th>\n",
              "      <th>score</th>\n",
              "      <th>thumbsUpCount</th>\n",
              "      <th>reviewCreatedVersion</th>\n",
              "      <th>at</th>\n",
              "      <th>replyContent</th>\n",
              "      <th>repliedAt</th>\n",
              "    </tr>\n",
              "  </thead>\n",
              "  <tbody>\n",
              "    <tr>\n",
              "      <th>0</th>\n",
              "      <td>gp:AOqpTOHEIujNLZHf58zzjsy5FcR77AzXT1qJnC6Ex1G...</td>\n",
              "      <td>NONOK NONOK</td>\n",
              "      <td>https://play-lh.googleusercontent.com/a-/AOh14...</td>\n",
              "      <td>sangat bermanfaat</td>\n",
              "      <td>5</td>\n",
              "      <td>0</td>\n",
              "      <td>3.6.1</td>\n",
              "      <td>2021-08-26 02:50:07</td>\n",
              "      <td>None</td>\n",
              "      <td>NaT</td>\n",
              "    </tr>\n",
              "    <tr>\n",
              "      <th>1</th>\n",
              "      <td>gp:AOqpTOGWyX88zWtpGqHoVI4_vIkDPzmy_5UuAADR3_q...</td>\n",
              "      <td>Ari Pambudi</td>\n",
              "      <td>https://play-lh.googleusercontent.com/a-/AOh14...</td>\n",
              "      <td>dikit dikit update</td>\n",
              "      <td>3</td>\n",
              "      <td>0</td>\n",
              "      <td>3.5.0</td>\n",
              "      <td>2021-08-26 02:46:35</td>\n",
              "      <td>None</td>\n",
              "      <td>NaT</td>\n",
              "    </tr>\n",
              "  </tbody>\n",
              "</table>\n",
              "</div>"
            ],
            "text/plain": [
              "                                            reviewId  ... repliedAt\n",
              "0  gp:AOqpTOHEIujNLZHf58zzjsy5FcR77AzXT1qJnC6Ex1G...  ...       NaT\n",
              "1  gp:AOqpTOGWyX88zWtpGqHoVI4_vIkDPzmy_5UuAADR3_q...  ...       NaT\n",
              "\n",
              "[2 rows x 10 columns]"
            ]
          },
          "execution_count": 25,
          "metadata": {},
          "output_type": "execute_result"
        }
      ]
    },
    {
      "cell_type": "markdown",
      "metadata": {
        "id": "SN7v5F1idOWK"
      },
      "source": [
        "Karena tujuannya adalah hendak melukan sentiment analysis tentang review pengguna mobile JKN, maka saya hanya akan memilih beberapa column:\n",
        "- Content\n",
        "- Score"
      ]
    },
    {
      "cell_type": "code",
      "metadata": {
        "colab": {
          "base_uri": "https://localhost:8080/",
          "height": 142
        },
        "id": "IShP1WJddNTf",
        "outputId": "c4fe626c-f046-4877-91e0-47f2b3085e0d"
      },
      "source": [
        "df_sent = df[['content', 'score']]\n",
        "df_sent = df_sent.rename(columns = {'content': 'review','score':'rating'}).reset_index()\n",
        "df_sent = df_sent.rename(columns = {'index':'id'})\n",
        "df_sent.head(3)"
      ],
      "execution_count": null,
      "outputs": [
        {
          "data": {
            "text/html": [
              "<div>\n",
              "<style scoped>\n",
              "    .dataframe tbody tr th:only-of-type {\n",
              "        vertical-align: middle;\n",
              "    }\n",
              "\n",
              "    .dataframe tbody tr th {\n",
              "        vertical-align: top;\n",
              "    }\n",
              "\n",
              "    .dataframe thead th {\n",
              "        text-align: right;\n",
              "    }\n",
              "</style>\n",
              "<table border=\"1\" class=\"dataframe\">\n",
              "  <thead>\n",
              "    <tr style=\"text-align: right;\">\n",
              "      <th></th>\n",
              "      <th>id</th>\n",
              "      <th>review</th>\n",
              "      <th>rating</th>\n",
              "    </tr>\n",
              "  </thead>\n",
              "  <tbody>\n",
              "    <tr>\n",
              "      <th>0</th>\n",
              "      <td>0</td>\n",
              "      <td>sangat bermanfaat</td>\n",
              "      <td>5</td>\n",
              "    </tr>\n",
              "    <tr>\n",
              "      <th>1</th>\n",
              "      <td>1</td>\n",
              "      <td>dikit dikit update</td>\n",
              "      <td>3</td>\n",
              "    </tr>\n",
              "    <tr>\n",
              "      <th>2</th>\n",
              "      <td>2</td>\n",
              "      <td>Saya sudah mendownload apk JKN mobile. Lalu me...</td>\n",
              "      <td>1</td>\n",
              "    </tr>\n",
              "  </tbody>\n",
              "</table>\n",
              "</div>"
            ],
            "text/plain": [
              "   id                                             review  rating\n",
              "0   0                                  sangat bermanfaat       5\n",
              "1   1                                 dikit dikit update       3\n",
              "2   2  Saya sudah mendownload apk JKN mobile. Lalu me...       1"
            ]
          },
          "execution_count": 97,
          "metadata": {},
          "output_type": "execute_result"
        }
      ]
    },
    {
      "cell_type": "markdown",
      "metadata": {
        "id": "uL2chpo_ekgB"
      },
      "source": [
        "### Save file into csv"
      ]
    },
    {
      "cell_type": "code",
      "metadata": {
        "id": "BqggTMLJej3G",
        "colab": {
          "base_uri": "https://localhost:8080/",
          "height": 162
        },
        "outputId": "8d94abf6-e777-4ab3-fe2d-2b1df1543ad8"
      },
      "source": [
        "df_sent.to_csv('data review Mobile JKN.csv')"
      ],
      "execution_count": 3,
      "outputs": [
        {
          "output_type": "error",
          "ename": "NameError",
          "evalue": "ignored",
          "traceback": [
            "\u001b[0;31m---------------------------------------------------------------------------\u001b[0m",
            "\u001b[0;31mNameError\u001b[0m                                 Traceback (most recent call last)",
            "\u001b[0;32m<ipython-input-3-7d508449cc75>\u001b[0m in \u001b[0;36m<module>\u001b[0;34m()\u001b[0m\n\u001b[0;32m----> 1\u001b[0;31m \u001b[0mdf_sent\u001b[0m\u001b[0;34m.\u001b[0m\u001b[0mto_csv\u001b[0m\u001b[0;34m(\u001b[0m\u001b[0;34m'data review Mobile JKN.csv'\u001b[0m\u001b[0;34m)\u001b[0m\u001b[0;34m\u001b[0m\u001b[0;34m\u001b[0m\u001b[0m\n\u001b[0m",
            "\u001b[0;31mNameError\u001b[0m: name 'df_sent' is not defined"
          ]
        }
      ]
    },
    {
      "cell_type": "markdown",
      "metadata": {
        "id": "LNLE9V0alJK7"
      },
      "source": [
        "### Read CSV\n"
      ]
    },
    {
      "cell_type": "code",
      "metadata": {
        "id": "DMeUtOl1Aksp"
      },
      "source": [
        "df_sent = pd.read_csv('/content/drive/MyDrive/Scraping/hasil/data review Mobile JKN.csv')"
      ],
      "execution_count": 4,
      "outputs": []
    },
    {
      "cell_type": "markdown",
      "metadata": {
        "id": "Rlhjb6vueqn1"
      },
      "source": [
        "### Continue pre-processing"
      ]
    },
    {
      "cell_type": "code",
      "metadata": {
        "colab": {
          "base_uri": "https://localhost:8080/"
        },
        "id": "zvGEzmlAee88",
        "outputId": "a1c06b1e-f6b2-4cf2-af86-7469963a6099"
      },
      "source": [
        "# check df shape\n",
        "df_sent.shape"
      ],
      "execution_count": 5,
      "outputs": [
        {
          "output_type": "execute_result",
          "data": {
            "text/plain": [
              "(122070, 4)"
            ]
          },
          "metadata": {},
          "execution_count": 5
        }
      ]
    },
    {
      "cell_type": "code",
      "metadata": {
        "colab": {
          "base_uri": "https://localhost:8080/"
        },
        "id": "Y6h0zYVRfAV9",
        "outputId": "aba29366-cfb0-43ec-d431-9b854f4dc931"
      },
      "source": [
        "# check missing value\n",
        "df_sent.isnull().sum()"
      ],
      "execution_count": 6,
      "outputs": [
        {
          "output_type": "execute_result",
          "data": {
            "text/plain": [
              "Unnamed: 0    0\n",
              "id            0\n",
              "review        1\n",
              "rating        0\n",
              "dtype: int64"
            ]
          },
          "metadata": {},
          "execution_count": 6
        }
      ]
    },
    {
      "cell_type": "markdown",
      "metadata": {
        "id": "yjFGX-5FgiFS"
      },
      "source": [
        "#### Handling Missing value"
      ]
    },
    {
      "cell_type": "code",
      "metadata": {
        "id": "_wrU38YrfK6s"
      },
      "source": [
        "# handling missing value\n",
        "# saya putuskan untuk drop rows karena hanya ada 1 missing value\n",
        "\n",
        "# drop missing value\n",
        "df_sent = df_sent.dropna(how='any')"
      ],
      "execution_count": 7,
      "outputs": []
    },
    {
      "cell_type": "code",
      "metadata": {
        "colab": {
          "base_uri": "https://localhost:8080/"
        },
        "id": "5upxT-dRfs_4",
        "outputId": "1e76b87f-c2cb-4e6d-cdeb-1a5491f75693"
      },
      "source": [
        "df_sent.isnull().sum()\n",
        "\n",
        "# sudah tidak ada missing value"
      ],
      "execution_count": 8,
      "outputs": [
        {
          "output_type": "execute_result",
          "data": {
            "text/plain": [
              "Unnamed: 0    0\n",
              "id            0\n",
              "review        0\n",
              "rating        0\n",
              "dtype: int64"
            ]
          },
          "metadata": {},
          "execution_count": 8
        }
      ]
    },
    {
      "cell_type": "code",
      "metadata": {
        "colab": {
          "base_uri": "https://localhost:8080/",
          "height": 417
        },
        "id": "uILOAgOxg_7-",
        "outputId": "ae252174-c37e-432f-c9ec-c229f83c25fb"
      },
      "source": [
        "# check comment with rating 3\n",
        "df_sent.loc[df_sent['rating']==3]"
      ],
      "execution_count": 9,
      "outputs": [
        {
          "output_type": "execute_result",
          "data": {
            "text/html": [
              "<div>\n",
              "<style scoped>\n",
              "    .dataframe tbody tr th:only-of-type {\n",
              "        vertical-align: middle;\n",
              "    }\n",
              "\n",
              "    .dataframe tbody tr th {\n",
              "        vertical-align: top;\n",
              "    }\n",
              "\n",
              "    .dataframe thead th {\n",
              "        text-align: right;\n",
              "    }\n",
              "</style>\n",
              "<table border=\"1\" class=\"dataframe\">\n",
              "  <thead>\n",
              "    <tr style=\"text-align: right;\">\n",
              "      <th></th>\n",
              "      <th>Unnamed: 0</th>\n",
              "      <th>id</th>\n",
              "      <th>review</th>\n",
              "      <th>rating</th>\n",
              "    </tr>\n",
              "  </thead>\n",
              "  <tbody>\n",
              "    <tr>\n",
              "      <th>1</th>\n",
              "      <td>1</td>\n",
              "      <td>1</td>\n",
              "      <td>dikit dikit update</td>\n",
              "      <td>3</td>\n",
              "    </tr>\n",
              "    <tr>\n",
              "      <th>18</th>\n",
              "      <td>18</td>\n",
              "      <td>18</td>\n",
              "      <td>Kok muter2</td>\n",
              "      <td>3</td>\n",
              "    </tr>\n",
              "    <tr>\n",
              "      <th>57</th>\n",
              "      <td>57</td>\n",
              "      <td>57</td>\n",
              "      <td>Ini kenapa ga bisa pakai bank BNI ya ? Kan di ...</td>\n",
              "      <td>3</td>\n",
              "    </tr>\n",
              "    <tr>\n",
              "      <th>62</th>\n",
              "      <td>62</td>\n",
              "      <td>62</td>\n",
              "      <td>Update terus</td>\n",
              "      <td>3</td>\n",
              "    </tr>\n",
              "    <tr>\n",
              "      <th>76</th>\n",
              "      <td>76</td>\n",
              "      <td>76</td>\n",
              "      <td>update supaya bisa ubah NIK KTP,,soalnya suka ...</td>\n",
              "      <td>3</td>\n",
              "    </tr>\n",
              "    <tr>\n",
              "      <th>...</th>\n",
              "      <td>...</td>\n",
              "      <td>...</td>\n",
              "      <td>...</td>\n",
              "      <td>...</td>\n",
              "    </tr>\n",
              "    <tr>\n",
              "      <th>122029</th>\n",
              "      <td>122029</td>\n",
              "      <td>122029</td>\n",
              "      <td>Akhirnya bisa jg di update</td>\n",
              "      <td>3</td>\n",
              "    </tr>\n",
              "    <tr>\n",
              "      <th>122035</th>\n",
              "      <td>122035</td>\n",
              "      <td>122035</td>\n",
              "      <td>Ada peningkatan 😉</td>\n",
              "      <td>3</td>\n",
              "    </tr>\n",
              "    <tr>\n",
              "      <th>122043</th>\n",
              "      <td>122043</td>\n",
              "      <td>122043</td>\n",
              "      <td>Tiga dl ya</td>\n",
              "      <td>3</td>\n",
              "    </tr>\n",
              "    <tr>\n",
              "      <th>122046</th>\n",
              "      <td>122046</td>\n",
              "      <td>122046</td>\n",
              "      <td>Tidak bisa registrasi menggunakan apk ini. Sem...</td>\n",
              "      <td>3</td>\n",
              "    </tr>\n",
              "    <tr>\n",
              "      <th>122048</th>\n",
              "      <td>122048</td>\n",
              "      <td>122048</td>\n",
              "      <td>Jembatan menuju indonesia sehat</td>\n",
              "      <td>3</td>\n",
              "    </tr>\n",
              "  </tbody>\n",
              "</table>\n",
              "<p>8865 rows × 4 columns</p>\n",
              "</div>"
            ],
            "text/plain": [
              "        Unnamed: 0  ...  rating\n",
              "1                1  ...       3\n",
              "18              18  ...       3\n",
              "57              57  ...       3\n",
              "62              62  ...       3\n",
              "76              76  ...       3\n",
              "...            ...  ...     ...\n",
              "122029      122029  ...       3\n",
              "122035      122035  ...       3\n",
              "122043      122043  ...       3\n",
              "122046      122046  ...       3\n",
              "122048      122048  ...       3\n",
              "\n",
              "[8865 rows x 4 columns]"
            ]
          },
          "metadata": {},
          "execution_count": 9
        }
      ]
    },
    {
      "cell_type": "markdown",
      "metadata": {
        "id": "FGBdxGYZglmz"
      },
      "source": [
        "#### Change rating to sentiment data\n",
        "\n",
        "- yang saya maksud data sentiment adalah sentimen + dan negatif, saya tidak memakai netral. \n",
        "- sehingga bentuk perubahannya adalah untuk score 4 - 5 (tinggi) akan saya ganti menjadi POSITIF.\n",
        "- sedangkan untuk score 1 - 2 akan saya ubah menjadi NEGATIF.\n",
        "- untuk score dengan value 3 akan saya drop rows. karena saya rasa itu nilai tengah, dan ketika saya cek real commentnya ada yang bernada positif ada yang bernada keluhan. sehingga agar tidak membingungkan saya drop rows."
      ]
    },
    {
      "cell_type": "code",
      "metadata": {
        "colab": {
          "base_uri": "https://localhost:8080/",
          "height": 142
        },
        "id": "rqCV8wf5hYuw",
        "outputId": "58724af5-8657-41b8-de86-f543e017f22b"
      },
      "source": [
        "# make a keeprows\n",
        "\n",
        "keeprows = []\n",
        "for x, baris in df_sent.iterrows():\n",
        "  if baris['rating'] != 3:\n",
        "    keeprows.append(baris)\n",
        "  else:\n",
        "    continue\n",
        "  \n",
        "df_sent = pd.DataFrame(keeprows)\n",
        "df_sent.head(3)"
      ],
      "execution_count": 10,
      "outputs": [
        {
          "output_type": "execute_result",
          "data": {
            "text/html": [
              "<div>\n",
              "<style scoped>\n",
              "    .dataframe tbody tr th:only-of-type {\n",
              "        vertical-align: middle;\n",
              "    }\n",
              "\n",
              "    .dataframe tbody tr th {\n",
              "        vertical-align: top;\n",
              "    }\n",
              "\n",
              "    .dataframe thead th {\n",
              "        text-align: right;\n",
              "    }\n",
              "</style>\n",
              "<table border=\"1\" class=\"dataframe\">\n",
              "  <thead>\n",
              "    <tr style=\"text-align: right;\">\n",
              "      <th></th>\n",
              "      <th>Unnamed: 0</th>\n",
              "      <th>id</th>\n",
              "      <th>review</th>\n",
              "      <th>rating</th>\n",
              "    </tr>\n",
              "  </thead>\n",
              "  <tbody>\n",
              "    <tr>\n",
              "      <th>0</th>\n",
              "      <td>0</td>\n",
              "      <td>0</td>\n",
              "      <td>sangat bermanfaat</td>\n",
              "      <td>5</td>\n",
              "    </tr>\n",
              "    <tr>\n",
              "      <th>2</th>\n",
              "      <td>2</td>\n",
              "      <td>2</td>\n",
              "      <td>Saya sudah mendownload apk JKN mobile. Lalu me...</td>\n",
              "      <td>1</td>\n",
              "    </tr>\n",
              "    <tr>\n",
              "      <th>3</th>\n",
              "      <td>3</td>\n",
              "      <td>3</td>\n",
              "      <td>Blm di pake</td>\n",
              "      <td>1</td>\n",
              "    </tr>\n",
              "  </tbody>\n",
              "</table>\n",
              "</div>"
            ],
            "text/plain": [
              "   Unnamed: 0  id                                             review  rating\n",
              "0           0   0                                  sangat bermanfaat       5\n",
              "2           2   2  Saya sudah mendownload apk JKN mobile. Lalu me...       1\n",
              "3           3   3                                        Blm di pake       1"
            ]
          },
          "metadata": {},
          "execution_count": 10
        }
      ]
    },
    {
      "cell_type": "code",
      "metadata": {
        "colab": {
          "base_uri": "https://localhost:8080/",
          "height": 110
        },
        "id": "HHFLcfchA_QP",
        "outputId": "25a108cb-c798-4bd6-de18-5df0b661db49"
      },
      "source": [
        "df_sent.drop(['Unnamed: 0', 'id'], axis=1, inplace=True)\n",
        "df_sent = df_sent.reset_index()\n",
        "df_sent.drop('index', axis=1, inplace=True)\n",
        "df_sent.head(2)"
      ],
      "execution_count": 11,
      "outputs": [
        {
          "output_type": "execute_result",
          "data": {
            "text/html": [
              "<div>\n",
              "<style scoped>\n",
              "    .dataframe tbody tr th:only-of-type {\n",
              "        vertical-align: middle;\n",
              "    }\n",
              "\n",
              "    .dataframe tbody tr th {\n",
              "        vertical-align: top;\n",
              "    }\n",
              "\n",
              "    .dataframe thead th {\n",
              "        text-align: right;\n",
              "    }\n",
              "</style>\n",
              "<table border=\"1\" class=\"dataframe\">\n",
              "  <thead>\n",
              "    <tr style=\"text-align: right;\">\n",
              "      <th></th>\n",
              "      <th>review</th>\n",
              "      <th>rating</th>\n",
              "    </tr>\n",
              "  </thead>\n",
              "  <tbody>\n",
              "    <tr>\n",
              "      <th>0</th>\n",
              "      <td>sangat bermanfaat</td>\n",
              "      <td>5</td>\n",
              "    </tr>\n",
              "    <tr>\n",
              "      <th>1</th>\n",
              "      <td>Saya sudah mendownload apk JKN mobile. Lalu me...</td>\n",
              "      <td>1</td>\n",
              "    </tr>\n",
              "  </tbody>\n",
              "</table>\n",
              "</div>"
            ],
            "text/plain": [
              "                                              review  rating\n",
              "0                                  sangat bermanfaat       5\n",
              "1  Saya sudah mendownload apk JKN mobile. Lalu me...       1"
            ]
          },
          "metadata": {},
          "execution_count": 11
        }
      ]
    },
    {
      "cell_type": "code",
      "metadata": {
        "colab": {
          "base_uri": "https://localhost:8080/"
        },
        "id": "xvvsFtmVnW-V",
        "outputId": "83968051-1333-44af-9b61-46a17367e307"
      },
      "source": [
        "# cek unique value in column rating\n",
        "df_sent['rating'].value_counts()"
      ],
      "execution_count": 12,
      "outputs": [
        {
          "output_type": "execute_result",
          "data": {
            "text/plain": [
              "5    55596\n",
              "1    39159\n",
              "4    10615\n",
              "2     7834\n",
              "Name: rating, dtype: int64"
            ]
          },
          "metadata": {},
          "execution_count": 12
        }
      ]
    },
    {
      "cell_type": "markdown",
      "metadata": {
        "id": "HpuJMfqrngwX"
      },
      "source": [
        "#### Transform the numeric value"
      ]
    },
    {
      "cell_type": "code",
      "metadata": {
        "colab": {
          "base_uri": "https://localhost:8080/",
          "height": 142
        },
        "id": "GNfFmIAMnfby",
        "outputId": "efce6c3f-c0ec-46c7-cfb6-8d45d55f663c"
      },
      "source": [
        "# transform value into sentiment \n",
        "\n",
        "value = []\n",
        "for x, baris in df_sent.iterrows():\n",
        "  if baris['rating'] == 1:\n",
        "    baris['rating'] = 'NEGATIF'\n",
        "    value.append(baris)\n",
        "  elif baris['rating'] == 2:\n",
        "    baris['rating'] = 'NEGATIF'\n",
        "    value.append(baris)\n",
        "  elif baris['rating'] == 4:\n",
        "    baris['rating'] = 'POSITIF'\n",
        "    value.append(baris)\n",
        "  elif baris['rating'] == 5:\n",
        "    baris['rating'] = 'POSITIF'\n",
        "    value.append(baris)\n",
        "  else:\n",
        "    continue\n",
        "\n",
        "df_sent = pd.DataFrame(value)\n",
        "df_sent.head(3)"
      ],
      "execution_count": 13,
      "outputs": [
        {
          "output_type": "execute_result",
          "data": {
            "text/html": [
              "<div>\n",
              "<style scoped>\n",
              "    .dataframe tbody tr th:only-of-type {\n",
              "        vertical-align: middle;\n",
              "    }\n",
              "\n",
              "    .dataframe tbody tr th {\n",
              "        vertical-align: top;\n",
              "    }\n",
              "\n",
              "    .dataframe thead th {\n",
              "        text-align: right;\n",
              "    }\n",
              "</style>\n",
              "<table border=\"1\" class=\"dataframe\">\n",
              "  <thead>\n",
              "    <tr style=\"text-align: right;\">\n",
              "      <th></th>\n",
              "      <th>review</th>\n",
              "      <th>rating</th>\n",
              "    </tr>\n",
              "  </thead>\n",
              "  <tbody>\n",
              "    <tr>\n",
              "      <th>0</th>\n",
              "      <td>sangat bermanfaat</td>\n",
              "      <td>POSITIF</td>\n",
              "    </tr>\n",
              "    <tr>\n",
              "      <th>1</th>\n",
              "      <td>Saya sudah mendownload apk JKN mobile. Lalu me...</td>\n",
              "      <td>NEGATIF</td>\n",
              "    </tr>\n",
              "    <tr>\n",
              "      <th>2</th>\n",
              "      <td>Blm di pake</td>\n",
              "      <td>NEGATIF</td>\n",
              "    </tr>\n",
              "  </tbody>\n",
              "</table>\n",
              "</div>"
            ],
            "text/plain": [
              "                                              review   rating\n",
              "0                                  sangat bermanfaat  POSITIF\n",
              "1  Saya sudah mendownload apk JKN mobile. Lalu me...  NEGATIF\n",
              "2                                        Blm di pake  NEGATIF"
            ]
          },
          "metadata": {},
          "execution_count": 13
        }
      ]
    },
    {
      "cell_type": "code",
      "metadata": {
        "colab": {
          "base_uri": "https://localhost:8080/"
        },
        "id": "l3ipkIgZonDm",
        "outputId": "af3a8ce9-39f6-4954-c47e-3c9d8d4fec62"
      },
      "source": [
        "# cek unique value in column rating\n",
        "df_sent['rating'].value_counts()"
      ],
      "execution_count": 14,
      "outputs": [
        {
          "output_type": "execute_result",
          "data": {
            "text/plain": [
              "POSITIF    66211\n",
              "NEGATIF    46993\n",
              "Name: rating, dtype: int64"
            ]
          },
          "metadata": {},
          "execution_count": 14
        }
      ]
    },
    {
      "cell_type": "markdown",
      "metadata": {
        "id": "L_w9kjZvvqIe"
      },
      "source": [
        "### Imbalance Data:\n",
        "- Perbandingan antara rating positif dan negatif sekitar 6:4.\n",
        "- Dan 6:4 saya rasa sudah balance. karena tidak lebih dari 70:30\n"
      ]
    },
    {
      "cell_type": "code",
      "metadata": {
        "colab": {
          "base_uri": "https://localhost:8080/",
          "height": 142
        },
        "id": "1cBifFlIv-4S",
        "outputId": "02df3b1c-664b-4499-dbc5-5713882e2aff"
      },
      "source": [
        "df_sent = df_sent.rename(columns={'rating':'sentiment'})\n",
        "df_sent.head(3)"
      ],
      "execution_count": 15,
      "outputs": [
        {
          "output_type": "execute_result",
          "data": {
            "text/html": [
              "<div>\n",
              "<style scoped>\n",
              "    .dataframe tbody tr th:only-of-type {\n",
              "        vertical-align: middle;\n",
              "    }\n",
              "\n",
              "    .dataframe tbody tr th {\n",
              "        vertical-align: top;\n",
              "    }\n",
              "\n",
              "    .dataframe thead th {\n",
              "        text-align: right;\n",
              "    }\n",
              "</style>\n",
              "<table border=\"1\" class=\"dataframe\">\n",
              "  <thead>\n",
              "    <tr style=\"text-align: right;\">\n",
              "      <th></th>\n",
              "      <th>review</th>\n",
              "      <th>sentiment</th>\n",
              "    </tr>\n",
              "  </thead>\n",
              "  <tbody>\n",
              "    <tr>\n",
              "      <th>0</th>\n",
              "      <td>sangat bermanfaat</td>\n",
              "      <td>POSITIF</td>\n",
              "    </tr>\n",
              "    <tr>\n",
              "      <th>1</th>\n",
              "      <td>Saya sudah mendownload apk JKN mobile. Lalu me...</td>\n",
              "      <td>NEGATIF</td>\n",
              "    </tr>\n",
              "    <tr>\n",
              "      <th>2</th>\n",
              "      <td>Blm di pake</td>\n",
              "      <td>NEGATIF</td>\n",
              "    </tr>\n",
              "  </tbody>\n",
              "</table>\n",
              "</div>"
            ],
            "text/plain": [
              "                                              review sentiment\n",
              "0                                  sangat bermanfaat   POSITIF\n",
              "1  Saya sudah mendownload apk JKN mobile. Lalu me...   NEGATIF\n",
              "2                                        Blm di pake   NEGATIF"
            ]
          },
          "metadata": {},
          "execution_count": 15
        }
      ]
    },
    {
      "cell_type": "markdown",
      "metadata": {
        "id": "iVDiPLvTsTF9"
      },
      "source": [
        "# Text Pre-Processing Phase"
      ]
    },
    {
      "cell_type": "markdown",
      "metadata": {
        "id": "4K_t94sOtTnI"
      },
      "source": [
        "#### Import Library"
      ]
    },
    {
      "cell_type": "code",
      "metadata": {
        "colab": {
          "base_uri": "https://localhost:8080/"
        },
        "id": "y-pnhD_EsYl7",
        "outputId": "40e13ae5-d8c5-448a-a739-9bda8dcbebbd"
      },
      "source": [
        "import re\n",
        "import string\n",
        "\n",
        "from string import punctuation\n",
        "import nltk\n",
        "nltk.download('stopwords')\n",
        "from nltk.corpus import stopwords\n",
        "stop_words = stopwords.words('indonesian')\n",
        "\n",
        "# Library for features extractions and modeling\n",
        "from sklearn.feature_extraction.text import CountVectorizer\n",
        "from sklearn.feature_extraction.text import TfidfVectorizer\n",
        "from sklearn.model_selection import train_test_split\n",
        "from sklearn import svm, naive_bayes\n",
        "from sklearn.linear_model import LogisticRegression\n",
        "\n",
        "# Sastrawi\n",
        "!pip install Sastrawi\n",
        "from Sastrawi.Stemmer.StemmerFactory import StemmerFactory\n",
        "\n",
        "# Evaluation metrics\n",
        "from sklearn.metrics import accuracy_score, classification_report"
      ],
      "execution_count": 21,
      "outputs": [
        {
          "output_type": "stream",
          "name": "stdout",
          "text": [
            "[nltk_data] Downloading package stopwords to /root/nltk_data...\n",
            "[nltk_data]   Package stopwords is already up-to-date!\n",
            "Requirement already satisfied: Sastrawi in /usr/local/lib/python3.7/dist-packages (1.0.1)\n"
          ]
        }
      ]
    },
    {
      "cell_type": "code",
      "metadata": {
        "id": "6LbTJL2huUaF"
      },
      "source": [
        "# Preprocessing Function\n",
        "\n",
        "def preprocessing(sentence):\n",
        "    \n",
        "    #lowecasing\n",
        "    sentence = sentence.lower()    \n",
        "    \n",
        "    #remove white spaces\n",
        "    sentence = sentence.strip()\n",
        "    \n",
        "    #tokenization\n",
        "    words = sentence.split()\n",
        "    \n",
        "    #remove punctuation/ special character\n",
        "    remove_table = str.maketrans(\"\", \"\", punctuation)\n",
        "    words = [x.translate(remove_table) for x in words]\n",
        "    \n",
        "    #remove nonalphanumeric <=3 chars\n",
        "    words = [x for x in words if x.isalnum()]\n",
        "    \n",
        "    #remove stopwords\n",
        "    words = [x for x in words if x not in stop_words]\n",
        "\n",
        "    #rejoining the words\n",
        "    sentence = \" \".join(words)\n",
        "    \n",
        "    return sentence"
      ],
      "execution_count": 17,
      "outputs": []
    },
    {
      "cell_type": "code",
      "metadata": {
        "id": "uyPUt8lmusKy"
      },
      "source": [
        "# apply functions\n",
        "\n",
        "df_sent['review'] = [preprocessing(abc) for abc in df_sent['review']]"
      ],
      "execution_count": 18,
      "outputs": []
    },
    {
      "cell_type": "code",
      "metadata": {
        "colab": {
          "base_uri": "https://localhost:8080/",
          "height": 417
        },
        "id": "8c72sxHrvCMJ",
        "outputId": "314dd446-d702-489f-c113-138e6643832c"
      },
      "source": [
        "df_sent"
      ],
      "execution_count": 19,
      "outputs": [
        {
          "output_type": "execute_result",
          "data": {
            "text/html": [
              "<div>\n",
              "<style scoped>\n",
              "    .dataframe tbody tr th:only-of-type {\n",
              "        vertical-align: middle;\n",
              "    }\n",
              "\n",
              "    .dataframe tbody tr th {\n",
              "        vertical-align: top;\n",
              "    }\n",
              "\n",
              "    .dataframe thead th {\n",
              "        text-align: right;\n",
              "    }\n",
              "</style>\n",
              "<table border=\"1\" class=\"dataframe\">\n",
              "  <thead>\n",
              "    <tr style=\"text-align: right;\">\n",
              "      <th></th>\n",
              "      <th>review</th>\n",
              "      <th>sentiment</th>\n",
              "    </tr>\n",
              "  </thead>\n",
              "  <tbody>\n",
              "    <tr>\n",
              "      <th>0</th>\n",
              "      <td>bermanfaat</td>\n",
              "      <td>POSITIF</td>\n",
              "    </tr>\n",
              "    <tr>\n",
              "      <th>1</th>\n",
              "      <td>mendownload apk jkn mobile mengikuti tuntunan ...</td>\n",
              "      <td>NEGATIF</td>\n",
              "    </tr>\n",
              "    <tr>\n",
              "      <th>2</th>\n",
              "      <td>blm pake</td>\n",
              "      <td>NEGATIF</td>\n",
              "    </tr>\n",
              "    <tr>\n",
              "      <th>3</th>\n",
              "      <td>ok</td>\n",
              "      <td>POSITIF</td>\n",
              "    </tr>\n",
              "    <tr>\n",
              "      <th>4</th>\n",
              "      <td>masuk gagal daftar mengisi no hp mencoba hubun...</td>\n",
              "      <td>NEGATIF</td>\n",
              "    </tr>\n",
              "    <tr>\n",
              "      <th>...</th>\n",
              "      <td>...</td>\n",
              "      <td>...</td>\n",
              "    </tr>\n",
              "    <tr>\n",
              "      <th>113199</th>\n",
              "      <td>mudah membantu terima kasih bpjs kesehatan</td>\n",
              "      <td>POSITIF</td>\n",
              "    </tr>\n",
              "    <tr>\n",
              "      <th>113200</th>\n",
              "      <td>membantu peserta chek status kepesertaan bpjs ...</td>\n",
              "      <td>POSITIF</td>\n",
              "    </tr>\n",
              "    <tr>\n",
              "      <th>113201</th>\n",
              "      <td>membantu</td>\n",
              "      <td>POSITIF</td>\n",
              "    </tr>\n",
              "    <tr>\n",
              "      <th>113202</th>\n",
              "      <td>membantu</td>\n",
              "      <td>POSITIF</td>\n",
              "    </tr>\n",
              "    <tr>\n",
              "      <th>113203</th>\n",
              "      <td></td>\n",
              "      <td>POSITIF</td>\n",
              "    </tr>\n",
              "  </tbody>\n",
              "</table>\n",
              "<p>113204 rows × 2 columns</p>\n",
              "</div>"
            ],
            "text/plain": [
              "                                                   review sentiment\n",
              "0                                              bermanfaat   POSITIF\n",
              "1       mendownload apk jkn mobile mengikuti tuntunan ...   NEGATIF\n",
              "2                                                blm pake   NEGATIF\n",
              "3                                                      ok   POSITIF\n",
              "4       masuk gagal daftar mengisi no hp mencoba hubun...   NEGATIF\n",
              "...                                                   ...       ...\n",
              "113199         mudah membantu terima kasih bpjs kesehatan   POSITIF\n",
              "113200  membantu peserta chek status kepesertaan bpjs ...   POSITIF\n",
              "113201                                           membantu   POSITIF\n",
              "113202                                           membantu   POSITIF\n",
              "113203                                                      POSITIF\n",
              "\n",
              "[113204 rows x 2 columns]"
            ]
          },
          "metadata": {},
          "execution_count": 19
        }
      ]
    },
    {
      "cell_type": "markdown",
      "metadata": {
        "id": "JlLy2UrMvgvE"
      },
      "source": [
        "### Save clean (after text pre-processing) data to csv"
      ]
    },
    {
      "cell_type": "code",
      "metadata": {
        "id": "hBOD4IRmyFTO"
      },
      "source": [
        "df_sent.to_csv('dfresik.csv')"
      ],
      "execution_count": 20,
      "outputs": []
    }
  ]
}