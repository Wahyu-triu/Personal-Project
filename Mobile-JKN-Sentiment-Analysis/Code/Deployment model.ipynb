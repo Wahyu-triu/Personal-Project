{
 "cells": [
  {
   "cell_type": "markdown",
   "id": "cac856fb",
   "metadata": {},
   "source": [
    "## Import Library"
   ]
  },
  {
   "cell_type": "code",
   "execution_count": 24,
   "id": "e9f01cac",
   "metadata": {},
   "outputs": [],
   "source": [
    "import pandas as pd\n",
    "import numpy as np\n",
    "import tkinter as tk\n",
    "from tkinter import ttk\n",
    "from tkinter import messagebox\n",
    "from tkinter import *\n",
    "import pickle\n",
    "import os\n",
    "import matplotlib.pyplot as plt\n",
    "from sklearn.metrics import confusion_matrix\n",
    "from sklearn.metrics import plot_confusion_matrix"
   ]
  },
  {
   "cell_type": "code",
   "execution_count": 2,
   "id": "56702bef",
   "metadata": {},
   "outputs": [
    {
     "name": "stderr",
     "output_type": "stream",
     "text": [
      "[nltk_data] Downloading package stopwords to C:\\Users\\THINKPAD\n",
      "[nltk_data]     E470\\AppData\\Roaming\\nltk_data...\n",
      "[nltk_data]   Package stopwords is already up-to-date!\n"
     ]
    },
    {
     "name": "stdout",
     "output_type": "stream",
     "text": [
      "Requirement already satisfied: Sastrawi in c:\\users\\thinkpad e470\\anaconda3\\lib\\site-packages (1.0.1)\n"
     ]
    }
   ],
   "source": [
    "#import library\n",
    "\n",
    "from string import punctuation\n",
    "import nltk\n",
    "nltk.download('stopwords')\n",
    "from nltk.corpus import stopwords\n",
    "stop_words = stopwords.words('indonesian')\n",
    "\n",
    "# Sastrawi\n",
    "!pip install Sastrawi\n",
    "from Sastrawi.Stemmer.StemmerFactory import StemmerFactory\n",
    "\n",
    "factory = StemmerFactory()\n",
    "stemmer = factory.create_stemmer()"
   ]
  },
  {
   "cell_type": "code",
   "execution_count": 3,
   "id": "02869026",
   "metadata": {},
   "outputs": [],
   "source": [
    "# Preprocessing Function\n",
    "\n",
    "def preprocessing(sentence):\n",
    "    \n",
    "    #lowecasing\n",
    "    sentence = sentence.lower()    \n",
    "    \n",
    "    #remove white spaces\n",
    "    sentence = sentence.strip()\n",
    "    \n",
    "    #tokenization\n",
    "    words = sentence.split()\n",
    "    \n",
    "    #remove punctuation/ special character\n",
    "    remove_table = str.maketrans(\"\", \"\", punctuation)\n",
    "    words = [x.translate(remove_table) for x in words]\n",
    "    \n",
    "    #remove nonalphanumeric <=3 chars\n",
    "    words = [x for x in words if x.isalnum()]\n",
    "    \n",
    "    #remove stopwords\n",
    "    words = [x for x in words if x not in stop_words]\n",
    "\n",
    "    #stemming using Sastrawi\n",
    "    #words = [stemmer.stem(x) for x in words]\n",
    "\n",
    "    #rejoining the words\n",
    "    sentence = \" \".join(words)\n",
    "    \n",
    "    return sentence"
   ]
  },
  {
   "cell_type": "code",
   "execution_count": 5,
   "id": "608b327a",
   "metadata": {
    "scrolled": true
   },
   "outputs": [],
   "source": [
    "# Library for features extractions and modeling\n",
    "from sklearn.feature_extraction.text import CountVectorizer\n",
    "from sklearn.feature_extraction.text import TfidfVectorizer\n",
    "from sklearn.model_selection import train_test_split\n",
    "from sklearn import svm, naive_bayes\n",
    "from sklearn.linear_model import LogisticRegression\n",
    "\n",
    "# Evaluation metrics\n",
    "from sklearn.metrics import accuracy_score, classification_report"
   ]
  },
  {
   "cell_type": "markdown",
   "id": "dfd28c76",
   "metadata": {},
   "source": [
    "## Import Clean Dataset"
   ]
  },
  {
   "cell_type": "code",
   "execution_count": 6,
   "id": "12b656ec",
   "metadata": {},
   "outputs": [],
   "source": [
    "# import clean dataset after text pre-processing\n",
    "df = pd.read_csv('dfresik.csv')"
   ]
  },
  {
   "cell_type": "code",
   "execution_count": 7,
   "id": "7186a46a",
   "metadata": {
    "scrolled": false
   },
   "outputs": [],
   "source": [
    "df.drop('Unnamed: 0', axis=1, inplace=True)"
   ]
  },
  {
   "cell_type": "code",
   "execution_count": 8,
   "id": "38048560",
   "metadata": {
    "scrolled": false
   },
   "outputs": [
    {
     "data": {
      "text/html": [
       "<div>\n",
       "<style scoped>\n",
       "    .dataframe tbody tr th:only-of-type {\n",
       "        vertical-align: middle;\n",
       "    }\n",
       "\n",
       "    .dataframe tbody tr th {\n",
       "        vertical-align: top;\n",
       "    }\n",
       "\n",
       "    .dataframe thead th {\n",
       "        text-align: right;\n",
       "    }\n",
       "</style>\n",
       "<table border=\"1\" class=\"dataframe\">\n",
       "  <thead>\n",
       "    <tr style=\"text-align: right;\">\n",
       "      <th></th>\n",
       "      <th>review</th>\n",
       "      <th>sentiment</th>\n",
       "    </tr>\n",
       "  </thead>\n",
       "  <tbody>\n",
       "    <tr>\n",
       "      <th>0</th>\n",
       "      <td>bermanfaat</td>\n",
       "      <td>1</td>\n",
       "    </tr>\n",
       "    <tr>\n",
       "      <th>1</th>\n",
       "      <td>mendownload apk jkn mobile mengikuti tuntunan ...</td>\n",
       "      <td>0</td>\n",
       "    </tr>\n",
       "    <tr>\n",
       "      <th>2</th>\n",
       "      <td>blm pake</td>\n",
       "      <td>0</td>\n",
       "    </tr>\n",
       "    <tr>\n",
       "      <th>3</th>\n",
       "      <td>ok</td>\n",
       "      <td>1</td>\n",
       "    </tr>\n",
       "    <tr>\n",
       "      <th>4</th>\n",
       "      <td>masuk gagal daftar mengisi no hp mencoba hubun...</td>\n",
       "      <td>0</td>\n",
       "    </tr>\n",
       "  </tbody>\n",
       "</table>\n",
       "</div>"
      ],
      "text/plain": [
       "                                              review  sentiment\n",
       "0                                         bermanfaat          1\n",
       "1  mendownload apk jkn mobile mengikuti tuntunan ...          0\n",
       "2                                           blm pake          0\n",
       "3                                                 ok          1\n",
       "4  masuk gagal daftar mengisi no hp mencoba hubun...          0"
      ]
     },
     "execution_count": 8,
     "metadata": {},
     "output_type": "execute_result"
    }
   ],
   "source": [
    "df.head()"
   ]
  },
  {
   "cell_type": "code",
   "execution_count": 9,
   "id": "4b56607d",
   "metadata": {},
   "outputs": [
    {
     "data": {
      "text/plain": [
       "review       object\n",
       "sentiment     int64\n",
       "dtype: object"
      ]
     },
     "execution_count": 9,
     "metadata": {},
     "output_type": "execute_result"
    }
   ],
   "source": [
    "df.dtypes"
   ]
  },
  {
   "cell_type": "code",
   "execution_count": 10,
   "id": "146af974",
   "metadata": {},
   "outputs": [],
   "source": [
    "df = df.dropna(how='any')"
   ]
  },
  {
   "cell_type": "code",
   "execution_count": 11,
   "id": "6a0dfe7f",
   "metadata": {},
   "outputs": [
    {
     "data": {
      "text/plain": [
       "1    62026\n",
       "0    46707\n",
       "Name: sentiment, dtype: int64"
      ]
     },
     "execution_count": 11,
     "metadata": {},
     "output_type": "execute_result"
    }
   ],
   "source": [
    "df['sentiment'].value_counts()"
   ]
  },
  {
   "cell_type": "code",
   "execution_count": 12,
   "id": "78cf643c",
   "metadata": {},
   "outputs": [],
   "source": [
    "# spliting data to train dataset and test dataset\n",
    "X = df['review']\n",
    "y = df['sentiment']\n",
    "\n",
    "X_train, X_test, y_train, y_test = train_test_split(X, \n",
    "                                                    y, \n",
    "                                                    test_size = 0.25,\n",
    "                                                    stratify=y,\n",
    "                                                    random_state=42)"
   ]
  },
  {
   "cell_type": "code",
   "execution_count": 13,
   "id": "a920b6df",
   "metadata": {
    "scrolled": true
   },
   "outputs": [
    {
     "data": {
      "text/plain": [
       "96785                                                 good\n",
       "15733    simpel mudah dak repot2 k kantor bpjsdan hemat...\n",
       "61259        teransaksi belom selesai sayatidak lihat menu\n",
       "12300    terdaftar jkn mobiletp pas log in ktanya blm t...\n",
       "75153                                              membatu\n",
       "Name: review, dtype: object"
      ]
     },
     "execution_count": 13,
     "metadata": {},
     "output_type": "execute_result"
    }
   ],
   "source": [
    "X_train.head()"
   ]
  },
  {
   "cell_type": "markdown",
   "id": "236c9c43",
   "metadata": {},
   "source": [
    "## Vectorizing"
   ]
  },
  {
   "cell_type": "code",
   "execution_count": 15,
   "id": "db70edac",
   "metadata": {},
   "outputs": [
    {
     "data": {
      "text/plain": [
       "TfidfVectorizer(stop_words=['ada', 'adalah', 'adanya', 'adapun', 'agak',\n",
       "                            'agaknya', 'agar', 'akan', 'akankah', 'akhir',\n",
       "                            'akhiri', 'akhirnya', 'aku', 'akulah', 'amat',\n",
       "                            'amatlah', 'anda', 'andalah', 'antar', 'antara',\n",
       "                            'antaranya', 'apa', 'apaan', 'apabila', 'apakah',\n",
       "                            'apalagi', 'apatah', 'artinya', 'asal', 'asalkan', ...])"
      ]
     },
     "execution_count": 15,
     "metadata": {},
     "output_type": "execute_result"
    }
   ],
   "source": [
    "# Feature extractions using TF-IDF\n",
    "\n",
    "tfidf = TfidfVectorizer(lowercase=True, stop_words = stop_words)\n",
    "tfidf"
   ]
  },
  {
   "cell_type": "code",
   "execution_count": 17,
   "id": "2f1b0561",
   "metadata": {},
   "outputs": [],
   "source": [
    "# vectorizing\n",
    "\n",
    "X_train_vect = tfidf.fit_transform(X_train)"
   ]
  },
  {
   "cell_type": "code",
   "execution_count": 18,
   "id": "a8dafdf1",
   "metadata": {},
   "outputs": [],
   "source": [
    "X_test_vect = tfidf.transform(X_test)"
   ]
  },
  {
   "cell_type": "markdown",
   "id": "27772c3f",
   "metadata": {},
   "source": [
    "## Modeling Using Multinomial Naive Bayes"
   ]
  },
  {
   "cell_type": "code",
   "execution_count": 19,
   "id": "6ffbbd1a",
   "metadata": {},
   "outputs": [],
   "source": [
    "from sklearn.naive_bayes import MultinomialNB\n",
    "MNB = MultinomialNB()\n",
    "MNB = MNB.fit(X_train_vect, y_train)"
   ]
  },
  {
   "cell_type": "code",
   "execution_count": 20,
   "id": "6fb98853",
   "metadata": {},
   "outputs": [],
   "source": [
    "MNB_predict = MNB.predict(X_test_vect)"
   ]
  },
  {
   "cell_type": "code",
   "execution_count": 21,
   "id": "863d0480",
   "metadata": {},
   "outputs": [
    {
     "name": "stdout",
     "output_type": "stream",
     "text": [
      "MNB model accuracy score : 0.9142878163625662\n"
     ]
    }
   ],
   "source": [
    "#print accuracy score\n",
    "\n",
    "print('MNB model accuracy score :', accuracy_score(y_test, MNB_predict))"
   ]
  },
  {
   "cell_type": "code",
   "execution_count": 31,
   "id": "1a09fbf2",
   "metadata": {
    "scrolled": true
   },
   "outputs": [
    {
     "name": "stdout",
     "output_type": "stream",
     "text": [
      "[[11050   627]\n",
      " [ 1703 13804]]\n"
     ]
    },
    {
     "data": {
      "image/png": "[encoded data removed]",
      "text/plain": [
       "<Figure size 432x288 with 2 Axes>"
      ]
     },
     "metadata": {
      "needs_background": "light"
     },
     "output_type": "display_data"
    }
   ],
   "source": [
    "# Confusion matrix\n",
    "\n",
    "# confusion_matrix funnction a matrix containing the summary of predictions\n",
    "print(confusion_matrix(y_test, MNB_predict))\n",
    "\n",
    "# plot_confusion_matrix function is used to visualize the confusion matrix\n",
    "plot_confusion_matrix(MNB, X_test_vect, y_test)\n",
    "plt.show()"
   ]
  },
  {
   "cell_type": "markdown",
   "id": "96241738",
   "metadata": {},
   "source": [
    "## Save and Load Model"
   ]
  },
  {
   "cell_type": "code",
   "execution_count": 32,
   "id": "8f030106",
   "metadata": {},
   "outputs": [],
   "source": [
    "#save MNB model\n",
    "filename = \"MNB.pkl\"  \n",
    "\n",
    "with open(filename, 'wb') as file:  \n",
    "    pickle.dump(MNB, file)"
   ]
  },
  {
   "cell_type": "code",
   "execution_count": 33,
   "id": "46784e7a",
   "metadata": {},
   "outputs": [],
   "source": [
    "#load\n",
    "filename = 'MNB.pkl'\n",
    "with open(filename, 'rb') as file:  \n",
    "    MNB_model = pickle.load(file)"
   ]
  },
  {
   "cell_type": "code",
   "execution_count": 34,
   "id": "6401b275",
   "metadata": {
    "scrolled": false
   },
   "outputs": [
    {
     "name": "stderr",
     "output_type": "stream",
     "text": [
      "C:\\Users\\THINKPAD E470\\anaconda3\\lib\\site-packages\\sklearn\\base.py:329: UserWarning: Trying to unpickle estimator LogisticRegression from version 0.22.2.post1 when using version 0.23.2. This might lead to breaking code or invalid results. Use at your own risk.\n",
      "  warnings.warn(\n"
     ]
    }
   ],
   "source": [
    "#load\n",
    "filename = 'Pickle_RL_Model.pkl'\n",
    "with open(filename, 'rb') as file:  \n",
    "    LR_Model = pickle.load(file)"
   ]
  },
  {
   "cell_type": "markdown",
   "id": "45e0361b",
   "metadata": {},
   "source": [
    "## Try to make a predictions"
   ]
  },
  {
   "cell_type": "code",
   "execution_count": 35,
   "id": "90cc1483",
   "metadata": {},
   "outputs": [],
   "source": [
    "text = {'review':'sangat bagus sekali aplikasinya, membantu saya dalam mengurus bpjs'}\n",
    "text = pd.DataFrame(text, index=[0])"
   ]
  },
  {
   "cell_type": "code",
   "execution_count": 36,
   "id": "a2561d05",
   "metadata": {},
   "outputs": [],
   "source": [
    "text['review'] = [preprocessing(x) for x in text['review']]"
   ]
  },
  {
   "cell_type": "code",
   "execution_count": 37,
   "id": "c175b374",
   "metadata": {},
   "outputs": [],
   "source": [
    "text_vect = tfidf.transform(text['review'])"
   ]
  },
  {
   "cell_type": "code",
   "execution_count": 38,
   "id": "86f83003",
   "metadata": {},
   "outputs": [
    {
     "data": {
      "text/plain": [
       "array([[0., 0., 0., ..., 0., 0., 0.]])"
      ]
     },
     "execution_count": 38,
     "metadata": {},
     "output_type": "execute_result"
    }
   ],
   "source": [
    "text_vect.toarray()"
   ]
  },
  {
   "cell_type": "code",
   "execution_count": 42,
   "id": "039bd8a4",
   "metadata": {
    "scrolled": true
   },
   "outputs": [
    {
     "name": "stdout",
     "output_type": "stream",
     "text": [
      "Review tersebut adalah review POSITIF\n"
     ]
    }
   ],
   "source": [
    "hasil = MNB.predict(text_vect)\n",
    "if hasil == 1:\n",
    "    hasil = 'POSITIF'\n",
    "elif hasil == 0:\n",
    "    hasil = 'NEGATIF'\n",
    "\n",
    "print('Review tersebut adalah review', hasil)"
   ]
  },
  {
   "cell_type": "markdown",
   "id": "66df644b",
   "metadata": {},
   "source": [
    "## Deployment Model"
   ]
  },
  {
   "cell_type": "code",
   "execution_count": 43,
   "id": "aa0221c2",
   "metadata": {},
   "outputs": [],
   "source": [
    "# make function\n",
    "def predict():\n",
    "    Review = inp.get()\n",
    "    try:\n",
    "        Review = str(Review)\n",
    "        \n",
    "        df = {'Review':[Review]}\n",
    "        test = pd.DataFrame(df, index=[0])\n",
    "        test['Review'] = [preprocessing(abc) for abc in test['Review']]\n",
    "        test_vect = tfidf.transform(test['Review'])\n",
    "    \n",
    "        lbl11['text'] = MNB.predict(test_vect)\n",
    "        lbl11['text'] = lbl11['text'][1]\n",
    "        if lbl11['text'] == '1':\n",
    "            lbl11['text'] = 'Sentiment Positif'\n",
    "        elif lbl11['text'] == '0':\n",
    "            lbl11['text'] = 'Sentiment Negatif'\n",
    "    except ValueError:\n",
    "        messagebox.showinfo('Alert Message', 'Enter Properly!')"
   ]
  },
  {
   "cell_type": "code",
   "execution_count": 53,
   "id": "698b1dca",
   "metadata": {},
   "outputs": [],
   "source": [
    "#tkiner code\n",
    "\n",
    "window = tk.Tk()\n",
    "window.title('Sentiment Predict!')\n",
    "window.geometry('250x150+600+300')\n",
    "window.configure(bg='white')\n",
    "\n",
    "#Review\n",
    "lab = Label(window, text='Input your review!', bg= 'white', fg = 'black', font='none 14')\n",
    "lab.grid(row=1, column=1)\n",
    "\n",
    "inp = tk.Entry(window)\n",
    "inp.insert(1, 'review')\n",
    "inp.grid(row=3, column=1)\n",
    "lbl = tk.Label(window, text='Review: ')\n",
    "lbl.grid(row=3, column=0)\n",
    "\n",
    "but = tk.Button(window, text = 'Predict!', command=predict)\n",
    "but.grid(row=6, column=0, sticky=W)\n",
    "lbl11 = tk.Label(window, text='Result . . .', bg='black', fg='white', font='none 12')\n",
    "lbl11.grid(row=7, column = 0, columnspan=3, sticky=W)\n",
    "\n",
    "window.mainloop()"
   ]
  }
 ],
 "metadata": {
  "kernelspec": {
   "display_name": "Python 3",
   "language": "python",
   "name": "python3"
  },
  "language_info": {
   "codemirror_mode": {
    "name": "ipython",
    "version": 3
   },
   "file_extension": ".py",
   "mimetype": "text/x-python",
   "name": "python",
   "nbconvert_exporter": "python",
   "pygments_lexer": "ipython3",
   "version": "3.8.8"
  }
 },
 "nbformat": 4,
 "nbformat_minor": 5
}
