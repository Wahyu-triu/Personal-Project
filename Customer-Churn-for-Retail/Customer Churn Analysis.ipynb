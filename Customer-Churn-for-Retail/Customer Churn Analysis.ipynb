{
 "cells": [
  {
   "cell_type": "markdown",
   "id": "8c97eae7",
   "metadata": {},
   "source": [
    "# Customer Churn Analysis\n",
    "\n",
    "Step:\n",
    "1. Data Pre-Processing\n",
    "2. EDA\n",
    "3. Modeling and Evaluation"
   ]
  },
  {
   "cell_type": "markdown",
   "id": "c8e82e9d",
   "metadata": {},
   "source": [
    "## Data Pre-Processing"
   ]
  },
  {
   "cell_type": "code",
   "execution_count": 1,
   "id": "2f32ab08",
   "metadata": {},
   "outputs": [],
   "source": [
    "import pandas as pd\n",
    "import numpy as np\n",
    "import matplotlib.pyplot as plt\n",
    "import seaborn as sns"
   ]
  },
  {
   "cell_type": "code",
   "execution_count": 2,
   "id": "3759cb7d",
   "metadata": {
    "scrolled": true
   },
   "outputs": [
    {
     "data": {
      "text/html": [
       "<div>\n",
       "<style scoped>\n",
       "    .dataframe tbody tr th:only-of-type {\n",
       "        vertical-align: middle;\n",
       "    }\n",
       "\n",
       "    .dataframe tbody tr th {\n",
       "        vertical-align: top;\n",
       "    }\n",
       "\n",
       "    .dataframe thead th {\n",
       "        text-align: right;\n",
       "    }\n",
       "</style>\n",
       "<table border=\"1\" class=\"dataframe\">\n",
       "  <thead>\n",
       "    <tr style=\"text-align: right;\">\n",
       "      <th></th>\n",
       "      <th>no</th>\n",
       "      <th>Row_Num</th>\n",
       "      <th>Customer_ID</th>\n",
       "      <th>Product</th>\n",
       "      <th>First_Transaction</th>\n",
       "      <th>Last_Transaction</th>\n",
       "      <th>Average_Transaction_Amount</th>\n",
       "      <th>Count_Transaction</th>\n",
       "    </tr>\n",
       "  </thead>\n",
       "  <tbody>\n",
       "    <tr>\n",
       "      <th>0</th>\n",
       "      <td>1</td>\n",
       "      <td>1</td>\n",
       "      <td>29531</td>\n",
       "      <td>Jaket</td>\n",
       "      <td>1466304274396</td>\n",
       "      <td>1538718482608</td>\n",
       "      <td>1467681</td>\n",
       "      <td>22</td>\n",
       "    </tr>\n",
       "    <tr>\n",
       "      <th>1</th>\n",
       "      <td>2</td>\n",
       "      <td>2</td>\n",
       "      <td>29531</td>\n",
       "      <td>Sepatu</td>\n",
       "      <td>1406077331494</td>\n",
       "      <td>1545735761270</td>\n",
       "      <td>1269337</td>\n",
       "      <td>41</td>\n",
       "    </tr>\n",
       "    <tr>\n",
       "      <th>2</th>\n",
       "      <td>3</td>\n",
       "      <td>3</td>\n",
       "      <td>141526</td>\n",
       "      <td>Tas</td>\n",
       "      <td>1493349147000</td>\n",
       "      <td>1548322802000</td>\n",
       "      <td>310915</td>\n",
       "      <td>30</td>\n",
       "    </tr>\n",
       "    <tr>\n",
       "      <th>3</th>\n",
       "      <td>4</td>\n",
       "      <td>4</td>\n",
       "      <td>141526</td>\n",
       "      <td>Jaket</td>\n",
       "      <td>1493362372547</td>\n",
       "      <td>1547643603911</td>\n",
       "      <td>722632</td>\n",
       "      <td>27</td>\n",
       "    </tr>\n",
       "    <tr>\n",
       "      <th>4</th>\n",
       "      <td>5</td>\n",
       "      <td>5</td>\n",
       "      <td>37545</td>\n",
       "      <td>Sepatu</td>\n",
       "      <td>1429178498531</td>\n",
       "      <td>1542891221530</td>\n",
       "      <td>1775036</td>\n",
       "      <td>25</td>\n",
       "    </tr>\n",
       "  </tbody>\n",
       "</table>\n",
       "</div>"
      ],
      "text/plain": [
       "   no  Row_Num  Customer_ID Product  First_Transaction  Last_Transaction  \\\n",
       "0   1        1        29531   Jaket      1466304274396     1538718482608   \n",
       "1   2        2        29531  Sepatu      1406077331494     1545735761270   \n",
       "2   3        3       141526     Tas      1493349147000     1548322802000   \n",
       "3   4        4       141526   Jaket      1493362372547     1547643603911   \n",
       "4   5        5        37545  Sepatu      1429178498531     1542891221530   \n",
       "\n",
       "   Average_Transaction_Amount  Count_Transaction  \n",
       "0                     1467681                 22  \n",
       "1                     1269337                 41  \n",
       "2                      310915                 30  \n",
       "3                      722632                 27  \n",
       "4                     1775036                 25  "
      ]
     },
     "execution_count": 2,
     "metadata": {},
     "output_type": "execute_result"
    }
   ],
   "source": [
    "data = pd.read_csv('data_retail.csv', sep=';')\n",
    "data.head()"
   ]
  },
  {
   "cell_type": "markdown",
   "id": "b5cb17f5",
   "metadata": {},
   "source": [
    "Data Overview"
   ]
  },
  {
   "cell_type": "code",
   "execution_count": 3,
   "id": "be10c989",
   "metadata": {
    "scrolled": true
   },
   "outputs": [
    {
     "data": {
      "text/plain": [
       "(100000, 8)"
      ]
     },
     "execution_count": 3,
     "metadata": {},
     "output_type": "execute_result"
    }
   ],
   "source": [
    "# shape\n",
    "data.shape"
   ]
  },
  {
   "cell_type": "code",
   "execution_count": 4,
   "id": "937a3d92",
   "metadata": {
    "scrolled": true
   },
   "outputs": [
    {
     "data": {
      "text/plain": [
       "no                            0\n",
       "Row_Num                       0\n",
       "Customer_ID                   0\n",
       "Product                       0\n",
       "First_Transaction             0\n",
       "Last_Transaction              0\n",
       "Average_Transaction_Amount    0\n",
       "Count_Transaction             0\n",
       "dtype: int64"
      ]
     },
     "execution_count": 4,
     "metadata": {},
     "output_type": "execute_result"
    }
   ],
   "source": [
    "# missing value\n",
    "data.isnull().sum()"
   ]
  },
  {
   "cell_type": "code",
   "execution_count": 5,
   "id": "23b48703",
   "metadata": {},
   "outputs": [
    {
     "name": "stdout",
     "output_type": "stream",
     "text": [
      "<class 'pandas.core.frame.DataFrame'>\n",
      "RangeIndex: 100000 entries, 0 to 99999\n",
      "Data columns (total 8 columns):\n",
      " #   Column                      Non-Null Count   Dtype \n",
      "---  ------                      --------------   ----- \n",
      " 0   no                          100000 non-null  int64 \n",
      " 1   Row_Num                     100000 non-null  int64 \n",
      " 2   Customer_ID                 100000 non-null  int64 \n",
      " 3   Product                     100000 non-null  object\n",
      " 4   First_Transaction           100000 non-null  int64 \n",
      " 5   Last_Transaction            100000 non-null  int64 \n",
      " 6   Average_Transaction_Amount  100000 non-null  int64 \n",
      " 7   Count_Transaction           100000 non-null  int64 \n",
      "dtypes: int64(7), object(1)\n",
      "memory usage: 6.1+ MB\n"
     ]
    }
   ],
   "source": [
    "# data info\n",
    "data.info()"
   ]
  },
  {
   "cell_type": "code",
   "execution_count": 6,
   "id": "45afa4b7",
   "metadata": {
    "scrolled": true
   },
   "outputs": [
    {
     "data": {
      "text/html": [
       "<div>\n",
       "<style scoped>\n",
       "    .dataframe tbody tr th:only-of-type {\n",
       "        vertical-align: middle;\n",
       "    }\n",
       "\n",
       "    .dataframe tbody tr th {\n",
       "        vertical-align: top;\n",
       "    }\n",
       "\n",
       "    .dataframe thead th {\n",
       "        text-align: right;\n",
       "    }\n",
       "</style>\n",
       "<table border=\"1\" class=\"dataframe\">\n",
       "  <thead>\n",
       "    <tr style=\"text-align: right;\">\n",
       "      <th></th>\n",
       "      <th>no</th>\n",
       "      <th>Row_Num</th>\n",
       "      <th>Customer_ID</th>\n",
       "      <th>First_Transaction</th>\n",
       "      <th>Last_Transaction</th>\n",
       "      <th>Average_Transaction_Amount</th>\n",
       "      <th>Count_Transaction</th>\n",
       "    </tr>\n",
       "  </thead>\n",
       "  <tbody>\n",
       "    <tr>\n",
       "      <th>count</th>\n",
       "      <td>100000.000000</td>\n",
       "      <td>100000.000000</td>\n",
       "      <td>100000.000000</td>\n",
       "      <td>1.000000e+05</td>\n",
       "      <td>1.000000e+05</td>\n",
       "      <td>1.000000e+05</td>\n",
       "      <td>100000.000000</td>\n",
       "    </tr>\n",
       "    <tr>\n",
       "      <th>mean</th>\n",
       "      <td>50000.500000</td>\n",
       "      <td>50000.500000</td>\n",
       "      <td>193083.996940</td>\n",
       "      <td>1.492184e+12</td>\n",
       "      <td>1.509970e+12</td>\n",
       "      <td>1.373157e+06</td>\n",
       "      <td>11.698500</td>\n",
       "    </tr>\n",
       "    <tr>\n",
       "      <th>std</th>\n",
       "      <td>28867.657797</td>\n",
       "      <td>28867.657797</td>\n",
       "      <td>200747.292955</td>\n",
       "      <td>3.948432e+10</td>\n",
       "      <td>3.563295e+10</td>\n",
       "      <td>1.544435e+06</td>\n",
       "      <td>35.417324</td>\n",
       "    </tr>\n",
       "    <tr>\n",
       "      <th>min</th>\n",
       "      <td>1.000000</td>\n",
       "      <td>1.000000</td>\n",
       "      <td>654.000000</td>\n",
       "      <td>1.362729e+12</td>\n",
       "      <td>1.362729e+12</td>\n",
       "      <td>0.000000e+00</td>\n",
       "      <td>1.000000</td>\n",
       "    </tr>\n",
       "    <tr>\n",
       "      <th>25%</th>\n",
       "      <td>25000.750000</td>\n",
       "      <td>25000.750000</td>\n",
       "      <td>60994.500000</td>\n",
       "      <td>1.467106e+12</td>\n",
       "      <td>1.491482e+12</td>\n",
       "      <td>4.783038e+05</td>\n",
       "      <td>1.000000</td>\n",
       "    </tr>\n",
       "    <tr>\n",
       "      <th>50%</th>\n",
       "      <td>50000.500000</td>\n",
       "      <td>50000.500000</td>\n",
       "      <td>121441.000000</td>\n",
       "      <td>1.499012e+12</td>\n",
       "      <td>1.518611e+12</td>\n",
       "      <td>9.059370e+05</td>\n",
       "      <td>2.000000</td>\n",
       "    </tr>\n",
       "    <tr>\n",
       "      <th>75%</th>\n",
       "      <td>75000.250000</td>\n",
       "      <td>75000.250000</td>\n",
       "      <td>196023.000000</td>\n",
       "      <td>1.523675e+12</td>\n",
       "      <td>1.539695e+12</td>\n",
       "      <td>1.636372e+06</td>\n",
       "      <td>6.000000</td>\n",
       "    </tr>\n",
       "    <tr>\n",
       "      <th>max</th>\n",
       "      <td>100000.000000</td>\n",
       "      <td>100000.000000</td>\n",
       "      <td>846213.000000</td>\n",
       "      <td>1.549061e+12</td>\n",
       "      <td>1.549065e+12</td>\n",
       "      <td>4.881014e+07</td>\n",
       "      <td>3852.000000</td>\n",
       "    </tr>\n",
       "  </tbody>\n",
       "</table>\n",
       "</div>"
      ],
      "text/plain": [
       "                  no        Row_Num    Customer_ID  First_Transaction  \\\n",
       "count  100000.000000  100000.000000  100000.000000       1.000000e+05   \n",
       "mean    50000.500000   50000.500000  193083.996940       1.492184e+12   \n",
       "std     28867.657797   28867.657797  200747.292955       3.948432e+10   \n",
       "min         1.000000       1.000000     654.000000       1.362729e+12   \n",
       "25%     25000.750000   25000.750000   60994.500000       1.467106e+12   \n",
       "50%     50000.500000   50000.500000  121441.000000       1.499012e+12   \n",
       "75%     75000.250000   75000.250000  196023.000000       1.523675e+12   \n",
       "max    100000.000000  100000.000000  846213.000000       1.549061e+12   \n",
       "\n",
       "       Last_Transaction  Average_Transaction_Amount  Count_Transaction  \n",
       "count      1.000000e+05                1.000000e+05      100000.000000  \n",
       "mean       1.509970e+12                1.373157e+06          11.698500  \n",
       "std        3.563295e+10                1.544435e+06          35.417324  \n",
       "min        1.362729e+12                0.000000e+00           1.000000  \n",
       "25%        1.491482e+12                4.783038e+05           1.000000  \n",
       "50%        1.518611e+12                9.059370e+05           2.000000  \n",
       "75%        1.539695e+12                1.636372e+06           6.000000  \n",
       "max        1.549065e+12                4.881014e+07        3852.000000  "
      ]
     },
     "execution_count": 6,
     "metadata": {},
     "output_type": "execute_result"
    }
   ],
   "source": [
    "# stastistical description\n",
    "data.describe()"
   ]
  },
  {
   "cell_type": "markdown",
   "id": "6847f9ae",
   "metadata": {},
   "source": [
    "Pre-Processing Actions"
   ]
  },
  {
   "cell_type": "code",
   "execution_count": 7,
   "id": "34612b22",
   "metadata": {},
   "outputs": [],
   "source": [
    "# change First_Transaction and Last_Transaction into datetime types\n",
    "data['First_Transaction'] = pd.to_datetime(data['First_Transaction']/1000, unit='s')\n",
    "data['Last_Transaction'] = pd.to_datetime(data['Last_Transaction']/1000, unit='s')"
   ]
  },
  {
   "cell_type": "code",
   "execution_count": 8,
   "id": "9998cc58",
   "metadata": {},
   "outputs": [],
   "source": [
    "# drop column no and Row_Num\n",
    "del data['no']\n",
    "del data['Row_Num']"
   ]
  },
  {
   "cell_type": "code",
   "execution_count": 9,
   "id": "c7445f0a",
   "metadata": {
    "scrolled": true
   },
   "outputs": [
    {
     "data": {
      "text/html": [
       "<div>\n",
       "<style scoped>\n",
       "    .dataframe tbody tr th:only-of-type {\n",
       "        vertical-align: middle;\n",
       "    }\n",
       "\n",
       "    .dataframe tbody tr th {\n",
       "        vertical-align: top;\n",
       "    }\n",
       "\n",
       "    .dataframe thead th {\n",
       "        text-align: right;\n",
       "    }\n",
       "</style>\n",
       "<table border=\"1\" class=\"dataframe\">\n",
       "  <thead>\n",
       "    <tr style=\"text-align: right;\">\n",
       "      <th></th>\n",
       "      <th>Customer_ID</th>\n",
       "      <th>Product</th>\n",
       "      <th>First_Transaction</th>\n",
       "      <th>Last_Transaction</th>\n",
       "      <th>Average_Transaction_Amount</th>\n",
       "      <th>Count_Transaction</th>\n",
       "    </tr>\n",
       "  </thead>\n",
       "  <tbody>\n",
       "    <tr>\n",
       "      <th>0</th>\n",
       "      <td>29531</td>\n",
       "      <td>Jaket</td>\n",
       "      <td>2016-06-19 02:44:34.396000000</td>\n",
       "      <td>2018-10-05 05:48:02.608000000</td>\n",
       "      <td>1467681</td>\n",
       "      <td>22</td>\n",
       "    </tr>\n",
       "    <tr>\n",
       "      <th>1</th>\n",
       "      <td>29531</td>\n",
       "      <td>Sepatu</td>\n",
       "      <td>2014-07-23 01:02:11.493999872</td>\n",
       "      <td>2018-12-25 11:02:41.269999872</td>\n",
       "      <td>1269337</td>\n",
       "      <td>41</td>\n",
       "    </tr>\n",
       "    <tr>\n",
       "      <th>2</th>\n",
       "      <td>141526</td>\n",
       "      <td>Tas</td>\n",
       "      <td>2017-04-28 03:12:27.000000000</td>\n",
       "      <td>2019-01-24 09:40:02.000000000</td>\n",
       "      <td>310915</td>\n",
       "      <td>30</td>\n",
       "    </tr>\n",
       "    <tr>\n",
       "      <th>3</th>\n",
       "      <td>141526</td>\n",
       "      <td>Jaket</td>\n",
       "      <td>2017-04-28 06:52:52.546999808</td>\n",
       "      <td>2019-01-16 13:00:03.911000064</td>\n",
       "      <td>722632</td>\n",
       "      <td>27</td>\n",
       "    </tr>\n",
       "    <tr>\n",
       "      <th>4</th>\n",
       "      <td>37545</td>\n",
       "      <td>Sepatu</td>\n",
       "      <td>2015-04-16 10:01:38.530999808</td>\n",
       "      <td>2018-11-22 12:53:41.529999872</td>\n",
       "      <td>1775036</td>\n",
       "      <td>25</td>\n",
       "    </tr>\n",
       "  </tbody>\n",
       "</table>\n",
       "</div>"
      ],
      "text/plain": [
       "   Customer_ID Product             First_Transaction  \\\n",
       "0        29531   Jaket 2016-06-19 02:44:34.396000000   \n",
       "1        29531  Sepatu 2014-07-23 01:02:11.493999872   \n",
       "2       141526     Tas 2017-04-28 03:12:27.000000000   \n",
       "3       141526   Jaket 2017-04-28 06:52:52.546999808   \n",
       "4        37545  Sepatu 2015-04-16 10:01:38.530999808   \n",
       "\n",
       "               Last_Transaction  Average_Transaction_Amount  Count_Transaction  \n",
       "0 2018-10-05 05:48:02.608000000                     1467681                 22  \n",
       "1 2018-12-25 11:02:41.269999872                     1269337                 41  \n",
       "2 2019-01-24 09:40:02.000000000                      310915                 30  \n",
       "3 2019-01-16 13:00:03.911000064                      722632                 27  \n",
       "4 2018-11-22 12:53:41.529999872                     1775036                 25  "
      ]
     },
     "execution_count": 9,
     "metadata": {},
     "output_type": "execute_result"
    }
   ],
   "source": [
    "data.head()"
   ]
  },
  {
   "cell_type": "markdown",
   "id": "dab378dd",
   "metadata": {},
   "source": [
    "### Make column 'Churn' as a label. \n",
    "Churn customer is a customer which haven't make a transactions in the last 6 month. "
   ]
  },
  {
   "cell_type": "code",
   "execution_count": 10,
   "id": "d8ddbca1",
   "metadata": {},
   "outputs": [
    {
     "name": "stdout",
     "output_type": "stream",
     "text": [
      "2019-02-01 23:57:57.286000128\n"
     ]
    }
   ],
   "source": [
    "# Last Trasaction\n",
    "print(max(data['Last_Transaction']))"
   ]
  },
  {
   "cell_type": "markdown",
   "id": "ee7bf4b6",
   "metadata": {},
   "source": [
    "Last Transaction in 2019-02-01.\n",
    ".\n",
    "So the last 6 month is in 2018-08-01"
   ]
  },
  {
   "cell_type": "code",
   "execution_count": 11,
   "id": "2071a885",
   "metadata": {},
   "outputs": [],
   "source": [
    "# make churn column\n",
    "data.loc[data['Last_Transaction'] <= '2018-08-01', 'Churn'] = 1\n",
    "data.loc[data['Last_Transaction'] > '2018-08-01', 'Churn'] = 0"
   ]
  },
  {
   "cell_type": "markdown",
   "id": "6b924b56",
   "metadata": {},
   "source": [
    "#### Note\n",
    "- 1 = Churn\n",
    "- 0 = Not Churn"
   ]
  },
  {
   "cell_type": "code",
   "execution_count": 12,
   "id": "d601b658",
   "metadata": {
    "scrolled": false
   },
   "outputs": [
    {
     "name": "stdout",
     "output_type": "stream",
     "text": [
      "<class 'pandas.core.frame.DataFrame'>\n",
      "RangeIndex: 100000 entries, 0 to 99999\n",
      "Data columns (total 7 columns):\n",
      " #   Column                      Non-Null Count   Dtype         \n",
      "---  ------                      --------------   -----         \n",
      " 0   Customer_ID                 100000 non-null  int64         \n",
      " 1   Product                     100000 non-null  object        \n",
      " 2   First_Transaction           100000 non-null  datetime64[ns]\n",
      " 3   Last_Transaction            100000 non-null  datetime64[ns]\n",
      " 4   Average_Transaction_Amount  100000 non-null  int64         \n",
      " 5   Count_Transaction           100000 non-null  int64         \n",
      " 6   Churn                       100000 non-null  int32         \n",
      "dtypes: datetime64[ns](2), int32(1), int64(3), object(1)\n",
      "memory usage: 5.0+ MB\n"
     ]
    }
   ],
   "source": [
    "# check Dataset\n",
    "data['Churn'] = data['Churn'].astype('int')\n",
    "data.info()"
   ]
  },
  {
   "cell_type": "code",
   "execution_count": 13,
   "id": "a3eb4759",
   "metadata": {
    "scrolled": false
   },
   "outputs": [
    {
     "data": {
      "text/plain": [
       "1    66569\n",
       "0    33431\n",
       "Name: Churn, dtype: int64"
      ]
     },
     "execution_count": 13,
     "metadata": {},
     "output_type": "execute_result"
    }
   ],
   "source": [
    "data['Churn'].value_counts()"
   ]
  },
  {
   "cell_type": "markdown",
   "id": "df3b4871",
   "metadata": {},
   "source": [
    "### Make Total Amount Column"
   ]
  },
  {
   "cell_type": "code",
   "execution_count": 14,
   "id": "7fa1e74b",
   "metadata": {},
   "outputs": [],
   "source": [
    "# Total Amount Column\n",
    "data['Total_Amount'] = data['Average_Transaction_Amount']*data['Count_Transaction']"
   ]
  },
  {
   "cell_type": "markdown",
   "id": "c50eb40e",
   "metadata": {},
   "source": [
    "### Encode Product Column into numeric "
   ]
  },
  {
   "cell_type": "code",
   "execution_count": 15,
   "id": "cf756632",
   "metadata": {
    "scrolled": true
   },
   "outputs": [
    {
     "data": {
      "text/plain": [
       "Sepatu    49154\n",
       "Jaket     34950\n",
       "Tas       12484\n",
       "Baju       3412\n",
       "Name: Product, dtype: int64"
      ]
     },
     "execution_count": 15,
     "metadata": {},
     "output_type": "execute_result"
    }
   ],
   "source": [
    "# Product\n",
    "\n",
    "data['Product'].value_counts()"
   ]
  },
  {
   "cell_type": "code",
   "execution_count": 16,
   "id": "a75798cf",
   "metadata": {},
   "outputs": [
    {
     "data": {
      "text/html": [
       "<div>\n",
       "<style scoped>\n",
       "    .dataframe tbody tr th:only-of-type {\n",
       "        vertical-align: middle;\n",
       "    }\n",
       "\n",
       "    .dataframe tbody tr th {\n",
       "        vertical-align: top;\n",
       "    }\n",
       "\n",
       "    .dataframe thead th {\n",
       "        text-align: right;\n",
       "    }\n",
       "</style>\n",
       "<table border=\"1\" class=\"dataframe\">\n",
       "  <thead>\n",
       "    <tr style=\"text-align: right;\">\n",
       "      <th></th>\n",
       "      <th>Baju</th>\n",
       "      <th>Jaket</th>\n",
       "      <th>Sepatu</th>\n",
       "      <th>Tas</th>\n",
       "    </tr>\n",
       "  </thead>\n",
       "  <tbody>\n",
       "    <tr>\n",
       "      <th>0</th>\n",
       "      <td>0</td>\n",
       "      <td>1</td>\n",
       "      <td>0</td>\n",
       "      <td>0</td>\n",
       "    </tr>\n",
       "    <tr>\n",
       "      <th>1</th>\n",
       "      <td>0</td>\n",
       "      <td>0</td>\n",
       "      <td>1</td>\n",
       "      <td>0</td>\n",
       "    </tr>\n",
       "    <tr>\n",
       "      <th>2</th>\n",
       "      <td>0</td>\n",
       "      <td>0</td>\n",
       "      <td>0</td>\n",
       "      <td>1</td>\n",
       "    </tr>\n",
       "    <tr>\n",
       "      <th>3</th>\n",
       "      <td>0</td>\n",
       "      <td>1</td>\n",
       "      <td>0</td>\n",
       "      <td>0</td>\n",
       "    </tr>\n",
       "    <tr>\n",
       "      <th>4</th>\n",
       "      <td>0</td>\n",
       "      <td>0</td>\n",
       "      <td>1</td>\n",
       "      <td>0</td>\n",
       "    </tr>\n",
       "  </tbody>\n",
       "</table>\n",
       "</div>"
      ],
      "text/plain": [
       "   Baju  Jaket  Sepatu  Tas\n",
       "0     0      1       0    0\n",
       "1     0      0       1    0\n",
       "2     0      0       0    1\n",
       "3     0      1       0    0\n",
       "4     0      0       1    0"
      ]
     },
     "execution_count": 16,
     "metadata": {},
     "output_type": "execute_result"
    }
   ],
   "source": [
    "encoded = pd.get_dummies(data['Product'])\n",
    "encoded.head()"
   ]
  },
  {
   "cell_type": "code",
   "execution_count": 17,
   "id": "d8babd1b",
   "metadata": {},
   "outputs": [
    {
     "data": {
      "text/html": [
       "<div>\n",
       "<style scoped>\n",
       "    .dataframe tbody tr th:only-of-type {\n",
       "        vertical-align: middle;\n",
       "    }\n",
       "\n",
       "    .dataframe tbody tr th {\n",
       "        vertical-align: top;\n",
       "    }\n",
       "\n",
       "    .dataframe thead th {\n",
       "        text-align: right;\n",
       "    }\n",
       "</style>\n",
       "<table border=\"1\" class=\"dataframe\">\n",
       "  <thead>\n",
       "    <tr style=\"text-align: right;\">\n",
       "      <th></th>\n",
       "      <th>Customer_ID</th>\n",
       "      <th>Product</th>\n",
       "      <th>First_Transaction</th>\n",
       "      <th>Last_Transaction</th>\n",
       "      <th>Average_Transaction_Amount</th>\n",
       "      <th>Count_Transaction</th>\n",
       "      <th>Churn</th>\n",
       "      <th>Total_Amount</th>\n",
       "      <th>Baju</th>\n",
       "      <th>Jaket</th>\n",
       "      <th>Sepatu</th>\n",
       "      <th>Tas</th>\n",
       "    </tr>\n",
       "  </thead>\n",
       "  <tbody>\n",
       "    <tr>\n",
       "      <th>0</th>\n",
       "      <td>29531</td>\n",
       "      <td>Jaket</td>\n",
       "      <td>2016-06-19 02:44:34.396000000</td>\n",
       "      <td>2018-10-05 05:48:02.608000000</td>\n",
       "      <td>1467681</td>\n",
       "      <td>22</td>\n",
       "      <td>0</td>\n",
       "      <td>32288982</td>\n",
       "      <td>0</td>\n",
       "      <td>1</td>\n",
       "      <td>0</td>\n",
       "      <td>0</td>\n",
       "    </tr>\n",
       "    <tr>\n",
       "      <th>1</th>\n",
       "      <td>29531</td>\n",
       "      <td>Sepatu</td>\n",
       "      <td>2014-07-23 01:02:11.493999872</td>\n",
       "      <td>2018-12-25 11:02:41.269999872</td>\n",
       "      <td>1269337</td>\n",
       "      <td>41</td>\n",
       "      <td>0</td>\n",
       "      <td>52042817</td>\n",
       "      <td>0</td>\n",
       "      <td>0</td>\n",
       "      <td>1</td>\n",
       "      <td>0</td>\n",
       "    </tr>\n",
       "    <tr>\n",
       "      <th>2</th>\n",
       "      <td>141526</td>\n",
       "      <td>Tas</td>\n",
       "      <td>2017-04-28 03:12:27.000000000</td>\n",
       "      <td>2019-01-24 09:40:02.000000000</td>\n",
       "      <td>310915</td>\n",
       "      <td>30</td>\n",
       "      <td>0</td>\n",
       "      <td>9327450</td>\n",
       "      <td>0</td>\n",
       "      <td>0</td>\n",
       "      <td>0</td>\n",
       "      <td>1</td>\n",
       "    </tr>\n",
       "    <tr>\n",
       "      <th>3</th>\n",
       "      <td>141526</td>\n",
       "      <td>Jaket</td>\n",
       "      <td>2017-04-28 06:52:52.546999808</td>\n",
       "      <td>2019-01-16 13:00:03.911000064</td>\n",
       "      <td>722632</td>\n",
       "      <td>27</td>\n",
       "      <td>0</td>\n",
       "      <td>19511064</td>\n",
       "      <td>0</td>\n",
       "      <td>1</td>\n",
       "      <td>0</td>\n",
       "      <td>0</td>\n",
       "    </tr>\n",
       "    <tr>\n",
       "      <th>4</th>\n",
       "      <td>37545</td>\n",
       "      <td>Sepatu</td>\n",
       "      <td>2015-04-16 10:01:38.530999808</td>\n",
       "      <td>2018-11-22 12:53:41.529999872</td>\n",
       "      <td>1775036</td>\n",
       "      <td>25</td>\n",
       "      <td>0</td>\n",
       "      <td>44375900</td>\n",
       "      <td>0</td>\n",
       "      <td>0</td>\n",
       "      <td>1</td>\n",
       "      <td>0</td>\n",
       "    </tr>\n",
       "  </tbody>\n",
       "</table>\n",
       "</div>"
      ],
      "text/plain": [
       "   Customer_ID Product             First_Transaction  \\\n",
       "0        29531   Jaket 2016-06-19 02:44:34.396000000   \n",
       "1        29531  Sepatu 2014-07-23 01:02:11.493999872   \n",
       "2       141526     Tas 2017-04-28 03:12:27.000000000   \n",
       "3       141526   Jaket 2017-04-28 06:52:52.546999808   \n",
       "4        37545  Sepatu 2015-04-16 10:01:38.530999808   \n",
       "\n",
       "               Last_Transaction  Average_Transaction_Amount  \\\n",
       "0 2018-10-05 05:48:02.608000000                     1467681   \n",
       "1 2018-12-25 11:02:41.269999872                     1269337   \n",
       "2 2019-01-24 09:40:02.000000000                      310915   \n",
       "3 2019-01-16 13:00:03.911000064                      722632   \n",
       "4 2018-11-22 12:53:41.529999872                     1775036   \n",
       "\n",
       "   Count_Transaction  Churn  Total_Amount  Baju  Jaket  Sepatu  Tas  \n",
       "0                 22      0      32288982     0      1       0    0  \n",
       "1                 41      0      52042817     0      0       1    0  \n",
       "2                 30      0       9327450     0      0       0    1  \n",
       "3                 27      0      19511064     0      1       0    0  \n",
       "4                 25      0      44375900     0      0       1    0  "
      ]
     },
     "execution_count": 17,
     "metadata": {},
     "output_type": "execute_result"
    }
   ],
   "source": [
    "data = data.join(encoded)\n",
    "data.head()"
   ]
  },
  {
   "cell_type": "markdown",
   "id": "46a6361f",
   "metadata": {},
   "source": [
    "## EDA"
   ]
  },
  {
   "cell_type": "code",
   "execution_count": 18,
   "id": "d248ec21",
   "metadata": {},
   "outputs": [],
   "source": [
    "# Customer Acquisition by year\n",
    "data['Year_First_Transaction'] = data['First_Transaction'].dt.year\n",
    "data['Year_Last_Transaction'] = data['Last_Transaction'].dt.year"
   ]
  },
  {
   "cell_type": "code",
   "execution_count": 19,
   "id": "2377eb68",
   "metadata": {
    "scrolled": true
   },
   "outputs": [
    {
     "data": {
      "image/png": "[encoded data removed]",
      "text/plain": [
       "<Figure size 432x360 with 1 Axes>"
      ]
     },
     "metadata": {
      "needs_background": "light"
     },
     "output_type": "display_data"
    }
   ],
   "source": [
    "# make a plot\n",
    "\n",
    "plt.figure(figsize=(6,5))\n",
    "x = data.groupby('Year_First_Transaction')['Customer_ID'].count()\n",
    "x.plot(x='Year_First_Transaction', y='Customer_ID', kind='bar', color='green')\n",
    "plt.title('Number Customer First Transaction by Year')\n",
    "plt.xlabel('First Year Transaction')\n",
    "plt.ylabel('Number of Customer')\n",
    "plt.tight_layout()\n",
    "plt.show()"
   ]
  },
  {
   "cell_type": "code",
   "execution_count": 20,
   "id": "15f5b0af",
   "metadata": {},
   "outputs": [
    {
     "data": {
      "image/png": "[encoded data removed]",
      "text/plain": [
       "<Figure size 432x360 with 1 Axes>"
      ]
     },
     "metadata": {
      "needs_background": "light"
     },
     "output_type": "display_data"
    }
   ],
   "source": [
    "# Transaction by Year\n",
    "\n",
    "plt.figure(figsize=(6,5))\n",
    "tran = data.groupby('Year_First_Transaction')['Count_Transaction'].sum()\n",
    "tran.plot(x='Year_First_Transaction', y='Count_Transaction', kind='bar', color='orange')\n",
    "plt.title('Number of Transaction by Year')\n",
    "plt.xlabel('Year')\n",
    "plt.ylabel('Number of Transaction')\n",
    "plt.tight_layout()\n",
    "plt.show()"
   ]
  },
  {
   "cell_type": "code",
   "execution_count": 21,
   "id": "b6b46743",
   "metadata": {
    "scrolled": true
   },
   "outputs": [
    {
     "data": {
      "image/png": "[encoded data removed]",
      "text/plain": [
       "<Figure size 432x360 with 1 Axes>"
      ]
     },
     "metadata": {
      "needs_background": "light"
     },
     "output_type": "display_data"
    }
   ],
   "source": [
    "# Product Sale\n",
    "\n",
    "plt.figure(figsize=(6,5))\n",
    "sale = data.groupby('Product')['Count_Transaction'].sum()\n",
    "sale.plot(x='Product', y='Count_Transaction', kind='bar', color='grey')\n",
    "plt.title('Total Product Sales')\n",
    "plt.xlabel('Price')\n",
    "plt.ylabel('Number of Sales')\n",
    "plt.tight_layout()\n",
    "plt.show()"
   ]
  },
  {
   "cell_type": "markdown",
   "id": "8fd2a157",
   "metadata": {},
   "source": [
    "## Modeling and Evaluation"
   ]
  },
  {
   "cell_type": "code",
   "execution_count": 22,
   "id": "7e59c3e2",
   "metadata": {},
   "outputs": [],
   "source": [
    "# Make year_diff\n",
    "data['Year_Diff'] = data['Year_Last_Transaction'] - data['Year_First_Transaction']\n",
    "\n",
    "# Feature Selection\n",
    "X = data[['Year_Diff', 'Average_Transaction_Amount', 'Count_Transaction', 'Total_Amount', 'Baju', 'Jaket', 'Sepatu', 'Tas']]\n",
    "y = data['Churn']"
   ]
  },
  {
   "cell_type": "code",
   "execution_count": 23,
   "id": "4c68ec0a",
   "metadata": {},
   "outputs": [],
   "source": [
    "from sklearn.model_selection import train_test_split\n",
    "from sklearn.linear_model import LogisticRegression\n",
    "from sklearn.metrics import confusion_matrix, accuracy_score"
   ]
  },
  {
   "cell_type": "code",
   "execution_count": 24,
   "id": "97a000c4",
   "metadata": {},
   "outputs": [],
   "source": [
    "# Spliting data\n",
    "X_train, X_test, y_train, y_test = train_test_split(X, y, test_size=0.25, random_state=42)"
   ]
  },
  {
   "cell_type": "code",
   "execution_count": 25,
   "id": "5706d361",
   "metadata": {},
   "outputs": [
    {
     "data": {
      "text/html": [
       "<div>\n",
       "<style scoped>\n",
       "    .dataframe tbody tr th:only-of-type {\n",
       "        vertical-align: middle;\n",
       "    }\n",
       "\n",
       "    .dataframe tbody tr th {\n",
       "        vertical-align: top;\n",
       "    }\n",
       "\n",
       "    .dataframe thead th {\n",
       "        text-align: right;\n",
       "    }\n",
       "</style>\n",
       "<table border=\"1\" class=\"dataframe\">\n",
       "  <thead>\n",
       "    <tr style=\"text-align: right;\">\n",
       "      <th></th>\n",
       "      <th>Year_Diff</th>\n",
       "      <th>Average_Transaction_Amount</th>\n",
       "      <th>Count_Transaction</th>\n",
       "      <th>Total_Amount</th>\n",
       "      <th>Baju</th>\n",
       "      <th>Jaket</th>\n",
       "      <th>Sepatu</th>\n",
       "      <th>Tas</th>\n",
       "    </tr>\n",
       "  </thead>\n",
       "  <tbody>\n",
       "    <tr>\n",
       "      <th>98980</th>\n",
       "      <td>0</td>\n",
       "      <td>902451</td>\n",
       "      <td>1</td>\n",
       "      <td>902451</td>\n",
       "      <td>0</td>\n",
       "      <td>1</td>\n",
       "      <td>0</td>\n",
       "      <td>0</td>\n",
       "    </tr>\n",
       "    <tr>\n",
       "      <th>69824</th>\n",
       "      <td>0</td>\n",
       "      <td>865581</td>\n",
       "      <td>6</td>\n",
       "      <td>5193486</td>\n",
       "      <td>1</td>\n",
       "      <td>0</td>\n",
       "      <td>0</td>\n",
       "      <td>0</td>\n",
       "    </tr>\n",
       "    <tr>\n",
       "      <th>9928</th>\n",
       "      <td>1</td>\n",
       "      <td>3807365</td>\n",
       "      <td>60</td>\n",
       "      <td>228441900</td>\n",
       "      <td>0</td>\n",
       "      <td>0</td>\n",
       "      <td>1</td>\n",
       "      <td>0</td>\n",
       "    </tr>\n",
       "    <tr>\n",
       "      <th>75599</th>\n",
       "      <td>0</td>\n",
       "      <td>317348</td>\n",
       "      <td>1</td>\n",
       "      <td>317348</td>\n",
       "      <td>1</td>\n",
       "      <td>0</td>\n",
       "      <td>0</td>\n",
       "      <td>0</td>\n",
       "    </tr>\n",
       "    <tr>\n",
       "      <th>95621</th>\n",
       "      <td>0</td>\n",
       "      <td>618458</td>\n",
       "      <td>1</td>\n",
       "      <td>618458</td>\n",
       "      <td>0</td>\n",
       "      <td>0</td>\n",
       "      <td>1</td>\n",
       "      <td>0</td>\n",
       "    </tr>\n",
       "  </tbody>\n",
       "</table>\n",
       "</div>"
      ],
      "text/plain": [
       "       Year_Diff  Average_Transaction_Amount  Count_Transaction  Total_Amount  \\\n",
       "98980          0                      902451                  1        902451   \n",
       "69824          0                      865581                  6       5193486   \n",
       "9928           1                     3807365                 60     228441900   \n",
       "75599          0                      317348                  1        317348   \n",
       "95621          0                      618458                  1        618458   \n",
       "\n",
       "       Baju  Jaket  Sepatu  Tas  \n",
       "98980     0      1       0    0  \n",
       "69824     1      0       0    0  \n",
       "9928      0      0       1    0  \n",
       "75599     1      0       0    0  \n",
       "95621     0      0       1    0  "
      ]
     },
     "execution_count": 25,
     "metadata": {},
     "output_type": "execute_result"
    }
   ],
   "source": [
    "X_train.head()"
   ]
  },
  {
   "cell_type": "code",
   "execution_count": 26,
   "id": "70445db5",
   "metadata": {},
   "outputs": [],
   "source": [
    "# Modeling\n",
    "\n",
    "LR = LogisticRegression()\n",
    "LR.fit(X_train, y_train)\n",
    "predict = LR.predict(X_test)"
   ]
  },
  {
   "cell_type": "code",
   "execution_count": 27,
   "id": "333de4df",
   "metadata": {
    "scrolled": true
   },
   "outputs": [
    {
     "name": "stdout",
     "output_type": "stream",
     "text": [
      "[[ 3778  4621]\n",
      " [ 1181 15420]]\n"
     ]
    }
   ],
   "source": [
    "print(confusion_matrix(y_test, predict))"
   ]
  },
  {
   "cell_type": "markdown",
   "id": "5eb9ce10",
   "metadata": {},
   "source": [
    "## Using Decision Tree Classifier"
   ]
  },
  {
   "cell_type": "code",
   "execution_count": 28,
   "id": "5bdc1c4f",
   "metadata": {
    "scrolled": true
   },
   "outputs": [
    {
     "name": "stdout",
     "output_type": "stream",
     "text": [
      "Requirement already satisfied: imbalanced-learn in c:\\users\\thinkpad e470\\anaconda3\\lib\\site-packages (0.8.0)\n",
      "Requirement already satisfied: scipy>=0.19.1 in c:\\users\\thinkpad e470\\anaconda3\\lib\\site-packages (from imbalanced-learn) (1.6.2)\n",
      "Requirement already satisfied: numpy>=1.13.3 in c:\\users\\thinkpad e470\\anaconda3\\lib\\site-packages (from imbalanced-learn) (1.19.5)\n",
      "Requirement already satisfied: scikit-learn>=0.24 in c:\\users\\thinkpad e470\\anaconda3\\lib\\site-packages (from imbalanced-learn) (0.24.2)\n",
      "Requirement already satisfied: joblib>=0.11 in c:\\users\\thinkpad e470\\anaconda3\\lib\\site-packages (from imbalanced-learn) (1.0.1)\n",
      "Requirement already satisfied: threadpoolctl>=2.0.0 in c:\\users\\thinkpad e470\\anaconda3\\lib\\site-packages (from scikit-learn>=0.24->imbalanced-learn) (2.1.0)\n"
     ]
    }
   ],
   "source": [
    "!pip install imbalanced-learn"
   ]
  },
  {
   "cell_type": "code",
   "execution_count": 29,
   "id": "8a37afef",
   "metadata": {
    "scrolled": true
   },
   "outputs": [
    {
     "name": "stdout",
     "output_type": "stream",
     "text": [
      "Requirement already satisfied: delayed in c:\\users\\thinkpad e470\\anaconda3\\lib\\site-packages (0.11.0b1)\n",
      "Requirement already satisfied: redis in c:\\users\\thinkpad e470\\anaconda3\\lib\\site-packages (from delayed) (3.5.3)\n",
      "Requirement already satisfied: hiredis in c:\\users\\thinkpad e470\\anaconda3\\lib\\site-packages (from delayed) (2.0.0)\n"
     ]
    }
   ],
   "source": [
    "!pip install delayed"
   ]
  },
  {
   "cell_type": "code",
   "execution_count": 30,
   "id": "c35818f9",
   "metadata": {},
   "outputs": [],
   "source": [
    "# import model\n",
    "from sklearn.model_selection import cross_val_score\n",
    "from sklearn.model_selection import RepeatedStratifiedKFold\n",
    "from sklearn.tree import DecisionTreeClassifier\n",
    "from imblearn.pipeline import Pipeline\n",
    "from imblearn.over_sampling import SMOTE\n",
    "from imblearn.under_sampling import RandomUnderSampler"
   ]
  },
  {
   "cell_type": "code",
   "execution_count": 31,
   "id": "d7e41349",
   "metadata": {},
   "outputs": [],
   "source": [
    "# define step in pipeline\n",
    "model = DecisionTreeClassifier(min_samples_split=3,\n",
    "                              min_samples_leaf=2)\n",
    "over = SMOTE()\n",
    "under = RandomUnderSampler()\n",
    "steps = [('over', over), ('under', under), ('model', model)]\n",
    "pipeline = Pipeline(steps=steps)"
   ]
  },
  {
   "cell_type": "code",
   "execution_count": 32,
   "id": "52c1c90a",
   "metadata": {},
   "outputs": [
    {
     "name": "stdout",
     "output_type": "stream",
     "text": [
      "Mean ROC AUC: 0.644\n"
     ]
    }
   ],
   "source": [
    "# ROC AUC\n",
    "cv = RepeatedStratifiedKFold(n_splits=20, n_repeats=3, random_state=1)\n",
    "scores = cross_val_score(pipeline, X, y, scoring='roc_auc', cv=cv, n_jobs=-1)\n",
    "print('Mean ROC AUC: %.3f' % scores.mean())"
   ]
  },
  {
   "cell_type": "code",
   "execution_count": 33,
   "id": "6210c67b",
   "metadata": {
    "scrolled": true
   },
   "outputs": [
    {
     "name": "stdout",
     "output_type": "stream",
     "text": [
      "> k=1, Mean ROC AUC: 0.644\n",
      "> k=2, Mean ROC AUC: 0.645\n",
      "> k=3, Mean ROC AUC: 0.644\n",
      "> k=4, Mean ROC AUC: 0.644\n",
      "> k=5, Mean ROC AUC: 0.644\n",
      "> k=6, Mean ROC AUC: 0.644\n",
      "> k=7, Mean ROC AUC: 0.644\n"
     ]
    }
   ],
   "source": [
    "# values to evaluate\n",
    "k_values = [1, 2, 3, 4, 5, 6, 7]\n",
    "for k in k_values:\n",
    "    # define pipeline\n",
    "    model = DecisionTreeClassifier(min_samples_split=3,\n",
    "                                   min_samples_leaf=2)\n",
    "    over = SMOTE(k_neighbors=k)\n",
    "    under = RandomUnderSampler()\n",
    "    steps = [('over', over), ('under', under), ('model', model)]\n",
    "    pipeline = Pipeline(steps=steps)\n",
    "\n",
    "    # evaluate pipeline\n",
    "    cv = RepeatedStratifiedKFold(n_splits=10, n_repeats=3, random_state=1)\n",
    "    scores = cross_val_score(pipeline, X, y, scoring='roc_auc', cv=cv, n_jobs=-1)\n",
    "    score = scores.mean()\n",
    "    print('> k=%d, Mean ROC AUC: %.3f' % (k, score))\n"
   ]
  },
  {
   "cell_type": "markdown",
   "id": "e7bc7def",
   "metadata": {},
   "source": [
    "## Selected Model"
   ]
  },
  {
   "cell_type": "code",
   "execution_count": 35,
   "id": "bacdeef4",
   "metadata": {},
   "outputs": [
    {
     "name": "stdout",
     "output_type": "stream",
     "text": [
      "Accuracy Score = \n",
      " 0.7421761554253667\n",
      "Confusion Matrix = \n",
      " [[15098  4900]\n",
      " [ 5398 14546]]\n"
     ]
    }
   ],
   "source": [
    "# using k=2\n",
    "\n",
    "oversample = SMOTE(k_neighbors=2)\n",
    "X, y = oversample.fit_resample(X, y)\n",
    "\n",
    "# spliting data\n",
    "X_train, X_test, y_train, y_test = train_test_split(X, y, test_size=0.3, random_state=42)\n",
    "\n",
    "#modeling\n",
    "clf = DecisionTreeClassifier(min_samples_split=4,\n",
    "                                min_samples_leaf=3)\n",
    "clf.fit(X_train, y_train)\n",
    "predict = clf.predict(X_test)\n",
    "\n",
    "# accuracy score\n",
    "print('Accuracy Score = \\n', accuracy_score(y_test, predict))\n",
    "print('Confusion Matrix = \\n', confusion_matrix(y_test, predict))"
   ]
  }
 ],
 "metadata": {
  "kernelspec": {
   "display_name": "Python 3",
   "language": "python",
   "name": "python3"
  },
  "language_info": {
   "codemirror_mode": {
    "name": "ipython",
    "version": 3
   },
   "file_extension": ".py",
   "mimetype": "text/x-python",
   "name": "python",
   "nbconvert_exporter": "python",
   "pygments_lexer": "ipython3",
   "version": "3.8.8"
  }
 },
 "nbformat": 4,
 "nbformat_minor": 5
}
